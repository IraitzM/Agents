{
 "cells": [
  {
   "cell_type": "markdown",
   "id": "cb0bd25c",
   "metadata": {},
   "source": [
    "Some times more than generic searches, we would like to exploit the fact that we count with a trustful resource, a curated knowledge that the agent can leverage."
   ]
  },
  {
   "cell_type": "code",
   "execution_count": 1,
   "id": "720a080b",
   "metadata": {},
   "outputs": [
    {
     "data": {
      "text/plain": [
       "True"
      ]
     },
     "execution_count": 1,
     "metadata": {},
     "output_type": "execute_result"
    }
   ],
   "source": [
    "from dotenv import load_dotenv\n",
    "\n",
    "load_dotenv(override=True)"
   ]
  },
  {
   "cell_type": "markdown",
   "id": "66be6a81",
   "metadata": {},
   "source": [
    "A simplified version of the previous example using Agno and LanceDB may show the potential of higher level frameworks.\n",
    "\n",
    "### Vector database\n",
    "\n",
    "[LanceDB](https://www.lancedb.com/) is a simple solution for tests and trials as it offers both, Cloud hosted and on-premises OSS solutions."
   ]
  },
  {
   "cell_type": "markdown",
   "id": "2a302400",
   "metadata": {},
   "source": [
    "Let's first select a site to load data from. For example, some site documentation https://python.langchain.com/docs/introduction/"
   ]
  },
  {
   "cell_type": "code",
   "execution_count": 2,
   "id": "67bc8760",
   "metadata": {},
   "outputs": [
    {
     "data": {
      "text/html": [
       "<pre style=\"white-space:pre;overflow-x:auto;line-height:normal;font-family:Menlo,'DejaVu Sans Mono',consolas,'Courier New',monospace\"><span style=\"color: #000080; text-decoration-color: #000080\">INFO</span> Creating table: langchain                                                                                     \n",
       "</pre>\n"
      ],
      "text/plain": [
       "\u001b[34mINFO\u001b[0m Creating table: langchain                                                                                     \n"
      ]
     },
     "metadata": {},
     "output_type": "display_data"
    },
    {
     "name": "stderr",
     "output_type": "stream",
     "text": [
      "\u001b[90m[\u001b[0m2025-08-01T08:58:23Z \u001b[33mWARN \u001b[0m lance::dataset::write::insert\u001b[90m]\u001b[0m No existing dataset at /home/iraitz/Documentos/Projects/Agents/examples/lancedb/langchain.lance, it will be created\n"
     ]
    }
   ],
   "source": [
    "from agno.embedder.google import GeminiEmbedder\n",
    "from agno.vectordb.lancedb import LanceDb, SearchType\n",
    "from agno.knowledge.markdown import MarkdownKnowledgeBase\n",
    "\n",
    "# Database\n",
    "vector_db = LanceDb(\n",
    "    table_name=\"langchain\",\n",
    "    uri=\"./lancedb\",  # You can change this path to store data elsewhere\n",
    "    embedder=GeminiEmbedder(),\n",
    "    use_tantivy=True\n",
    ")\n",
    "\n",
    "# Knowledge base\n",
    "knowledge_base = MarkdownKnowledgeBase(\n",
    "    path=\"../markdown_files\",\n",
    "    vector_db=vector_db,\n",
    "    search_type=SearchType.hybrid\n",
    ")"
   ]
  },
  {
   "cell_type": "markdown",
   "id": "67fa0dc1",
   "metadata": {},
   "source": [
    "You can check how the embedder does its magic against the knowledge base."
   ]
  },
  {
   "cell_type": "code",
   "execution_count": 3,
   "id": "17d5d829",
   "metadata": {},
   "outputs": [
    {
     "data": {
      "text/plain": [
       "[-0.025601903,\n",
       " -0.015883127,\n",
       " -0.006648923,\n",
       " -0.057227448,\n",
       " -0.007338925,\n",
       " 0.021304669,\n",
       " -0.00434841,\n",
       " 0.010607597,\n",
       " -0.0051602297,\n",
       " 0.030773513]"
      ]
     },
     "execution_count": 3,
     "metadata": {},
     "output_type": "execute_result"
    }
   ],
   "source": [
    "query = {\n",
    "    \"text\" : \"What are agents?\",\n",
    "    \"vector\" : GeminiEmbedder().get_embedding(\"What are agents?\")\n",
    "}\n",
    "query['vector'][:10]"
   ]
  },
  {
   "cell_type": "markdown",
   "id": "c739099a",
   "metadata": {},
   "source": [
    "We might need to load the knowledge base before querying."
   ]
  },
  {
   "cell_type": "code",
   "execution_count": 4,
   "id": "13ba5b21",
   "metadata": {},
   "outputs": [
    {
     "data": {
      "text/html": [
       "<pre style=\"white-space:pre;overflow-x:auto;line-height:normal;font-family:Menlo,'DejaVu Sans Mono',consolas,'Courier New',monospace\"><span style=\"color: #000080; text-decoration-color: #000080\">INFO</span> Loading knowledge base                                                                                        \n",
       "</pre>\n"
      ],
      "text/plain": [
       "\u001b[34mINFO\u001b[0m Loading knowledge base                                                                                        \n"
      ]
     },
     "metadata": {},
     "output_type": "display_data"
    },
    {
     "data": {
      "text/html": [
       "<pre style=\"white-space:pre;overflow-x:auto;line-height:normal;font-family:Menlo,'DejaVu Sans Mono',consolas,'Courier New',monospace\"><span style=\"color: #000080; text-decoration-color: #000080\">INFO</span> Reading: ..<span style=\"color: #800080; text-decoration-color: #800080\">/markdown_files/</span><span style=\"color: #ff00ff; text-decoration-color: #ff00ff\">agents.md</span>                                                                          \n",
       "</pre>\n"
      ],
      "text/plain": [
       "\u001b[34mINFO\u001b[0m Reading: ..\u001b[35m/markdown_files/\u001b[0m\u001b[95magents.md\u001b[0m                                                                          \n"
      ]
     },
     "metadata": {},
     "output_type": "display_data"
    },
    {
     "data": {
      "text/html": [
       "<pre style=\"white-space:pre;overflow-x:auto;line-height:normal;font-family:Menlo,'DejaVu Sans Mono',consolas,'Courier New',monospace\"><span style=\"color: #000080; text-decoration-color: #000080\">INFO</span> Added <span style=\"color: #008080; text-decoration-color: #008080; font-weight: bold\">3</span> documents to knowledge base                                                                           \n",
       "</pre>\n"
      ],
      "text/plain": [
       "\u001b[34mINFO\u001b[0m Added \u001b[1;36m3\u001b[0m documents to knowledge base                                                                           \n"
      ]
     },
     "metadata": {},
     "output_type": "display_data"
    }
   ],
   "source": [
    "knowledge_base.load()"
   ]
  },
  {
   "cell_type": "markdown",
   "id": "5a1d3c41",
   "metadata": {},
   "source": [
    "Of course, some tools we might need."
   ]
  },
  {
   "cell_type": "code",
   "execution_count": 5,
   "id": "7f1fef16",
   "metadata": {},
   "outputs": [],
   "source": [
    "from agno.tools.tavily import TavilyTools\n",
    "\n",
    "# Search engine\n",
    "search = TavilyTools()"
   ]
  },
  {
   "cell_type": "markdown",
   "id": "42b3011d",
   "metadata": {},
   "source": [
    "Now we can equip our agent with those options."
   ]
  },
  {
   "cell_type": "code",
   "execution_count": 6,
   "id": "208ab34e",
   "metadata": {},
   "outputs": [],
   "source": [
    "from agno.agent import Agent\n",
    "from agno.models.google import Gemini\n",
    "\n",
    "# Create an Agent\n",
    "agent = Agent(\n",
    "    model=Gemini(id=\"gemini-2.5-flash\", temperature=0),\n",
    "    knowledge=knowledge_base,\n",
    "    tools=[search],\n",
    "    # search_knowledge=True gives the Agent the ability to search on demand\n",
    "    # search_knowledge is True by default\n",
    "    search_knowledge=True,\n",
    "    instructions=[\n",
    "        \"Include sources in your response.\",\n",
    "        \"Always search your knowledge before answering the question.\",\n",
    "        \"Only include the output in your response. No other text.\",\n",
    "    ],\n",
    "    show_tool_calls=True,\n",
    "    markdown=True,\n",
    "    add_references=True,\n",
    ")"
   ]
  },
  {
   "cell_type": "markdown",
   "id": "2682a46a",
   "metadata": {},
   "source": [
    "Ok, we should see if the knowledge base is ready to be searched."
   ]
  },
  {
   "cell_type": "code",
   "execution_count": 7,
   "id": "6eee9d65",
   "metadata": {},
   "outputs": [
    {
     "data": {
      "text/html": [
       "<pre style=\"white-space:pre;overflow-x:auto;line-height:normal;font-family:Menlo,'DejaVu Sans Mono',consolas,'Courier New',monospace\"><span style=\"color: #000080; text-decoration-color: #000080\">INFO</span> Loading knowledge base                                                                                        \n",
       "</pre>\n"
      ],
      "text/plain": [
       "\u001b[34mINFO\u001b[0m Loading knowledge base                                                                                        \n"
      ]
     },
     "metadata": {},
     "output_type": "display_data"
    },
    {
     "data": {
      "text/html": [
       "<pre style=\"white-space:pre;overflow-x:auto;line-height:normal;font-family:Menlo,'DejaVu Sans Mono',consolas,'Courier New',monospace\"><span style=\"color: #000080; text-decoration-color: #000080\">INFO</span> Reading: ..<span style=\"color: #800080; text-decoration-color: #800080\">/markdown_files/</span><span style=\"color: #ff00ff; text-decoration-color: #ff00ff\">agents.md</span>                                                                          \n",
       "</pre>\n"
      ],
      "text/plain": [
       "\u001b[34mINFO\u001b[0m Reading: ..\u001b[35m/markdown_files/\u001b[0m\u001b[95magents.md\u001b[0m                                                                          \n"
      ]
     },
     "metadata": {},
     "output_type": "display_data"
    },
    {
     "data": {
      "text/html": [
       "<pre style=\"white-space:pre;overflow-x:auto;line-height:normal;font-family:Menlo,'DejaVu Sans Mono',consolas,'Courier New',monospace\"><span style=\"color: #000080; text-decoration-color: #000080\">INFO</span> Skipped <span style=\"color: #008080; text-decoration-color: #008080; font-weight: bold\">3</span> existing/duplicate documents.                                                                       \n",
       "</pre>\n"
      ],
      "text/plain": [
       "\u001b[34mINFO\u001b[0m Skipped \u001b[1;36m3\u001b[0m existing/duplicate documents.                                                                       \n"
      ]
     },
     "metadata": {},
     "output_type": "display_data"
    },
    {
     "data": {
      "text/html": [
       "<pre style=\"white-space:pre;overflow-x:auto;line-height:normal;font-family:Menlo,'DejaVu Sans Mono',consolas,'Courier New',monospace\"><span style=\"color: #000080; text-decoration-color: #000080\">INFO</span> Added <span style=\"color: #008080; text-decoration-color: #008080; font-weight: bold\">0</span> documents to knowledge base                                                                           \n",
       "</pre>\n"
      ],
      "text/plain": [
       "\u001b[34mINFO\u001b[0m Added \u001b[1;36m0\u001b[0m documents to knowledge base                                                                           \n"
      ]
     },
     "metadata": {},
     "output_type": "display_data"
    }
   ],
   "source": [
    "if agent.knowledge is not None:  # Check if knowledge base exists\n",
    "    agent.knowledge.load()  # Load and index the PDF content"
   ]
  },
  {
   "cell_type": "code",
   "execution_count": 8,
   "id": "79997596",
   "metadata": {},
   "outputs": [
    {
     "data": {
      "application/vnd.jupyter.widget-view+json": {
       "model_id": "4ff6fd908f9d46be9303f8c0e943a592",
       "version_major": 2,
       "version_minor": 0
      },
      "text/plain": [
       "Output()"
      ]
     },
     "metadata": {},
     "output_type": "display_data"
    },
    {
     "data": {
      "text/html": [
       "<pre style=\"white-space:pre;overflow-x:auto;line-height:normal;font-family:Menlo,'DejaVu Sans Mono',consolas,'Courier New',monospace\"><span style=\"color: #000080; text-decoration-color: #000080\">INFO</span> Found <span style=\"color: #008080; text-decoration-color: #008080; font-weight: bold\">3</span> documents                                                                                             \n",
       "</pre>\n"
      ],
      "text/plain": [
       "\u001b[34mINFO\u001b[0m Found \u001b[1;36m3\u001b[0m documents                                                                                             \n"
      ]
     },
     "metadata": {},
     "output_type": "display_data"
    },
    {
     "data": {
      "text/html": [
       "<pre style=\"white-space:pre;overflow-x:auto;line-height:normal;font-family:Menlo,'DejaVu Sans Mono',consolas,'Courier New',monospace\"></pre>\n"
      ],
      "text/plain": []
     },
     "metadata": {},
     "output_type": "display_data"
    }
   ],
   "source": [
    "agent.print_response(\"What are agents?\", stream=True)"
   ]
  },
  {
   "cell_type": "markdown",
   "id": "9251aeac",
   "metadata": {},
   "source": [
    "It is a small knowledge base but it made its magic."
   ]
  }
 ],
 "metadata": {
  "kernelspec": {
   "display_name": "agents",
   "language": "python",
   "name": "python3"
  },
  "language_info": {
   "codemirror_mode": {
    "name": "ipython",
    "version": 3
   },
   "file_extension": ".py",
   "mimetype": "text/x-python",
   "name": "python",
   "nbconvert_exporter": "python",
   "pygments_lexer": "ipython3",
   "version": "3.12.7"
  }
 },
 "nbformat": 4,
 "nbformat_minor": 5
}
