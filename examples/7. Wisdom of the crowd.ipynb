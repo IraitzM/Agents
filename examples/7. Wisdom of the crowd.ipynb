{
 "cells": [
  {
   "cell_type": "markdown",
   "id": "fac6af8c",
   "metadata": {},
   "source": [
    "Up to know a single agent entered the game but what if we would like to set some diversity? This is particularly relevant when creative processes or opinions enter the arena:\n",
    "\n",
    "* We may want to do a SEO analysis\n",
    "* Create a report on the progress of an employee\n",
    "* Define a hybrid work policy\n",
    "\n",
    "And all these tasks **will need human expertise** but we can have it started with a nice draft bringing different opinions. Something that would take several workshops and involve different roles, all automated. The idea is definitely captivating.\n",
    "\n",
    "## MultiAgent frameworks\n",
    "\n",
    "[CrewAI](https://www.crewai.com/) was created with this idea in mind, to programmatically be able to define a crowd, give them a task and allow them to discuss, evolve and refine the outcome before presenting it to the user.\n",
    "\n",
    "Similarly, [Agno](https://app.agno.com/) offers the ability to deploy and test multiagent applications thanks to its playground.\n",
    "\n",
    "![agnomulti](../images/agno_multi.png)\n",
    "\n",
    "We can stick to LangChain if we would like to have a higher control of the architecture being implemented.\n",
    "\n",
    "![](https://langchain-ai.github.io/langgraph/concepts/img/multi_agent/architectures.png)\n",
    "\n",
    "More on https://langchain-ai.github.io/langgraph/concepts/multi_agent/"
   ]
  },
  {
   "cell_type": "markdown",
   "id": "bf63d1a0",
   "metadata": {},
   "source": [
    "But the main point of previous frameworks is that it makes it easier to define the handover of tasks between agents and the overall interaction between the agents before a final response is provided."
   ]
  },
  {
   "cell_type": "code",
   "execution_count": 1,
   "id": "9c51b94a",
   "metadata": {},
   "outputs": [
    {
     "data": {
      "text/plain": [
       "True"
      ]
     },
     "execution_count": 1,
     "metadata": {},
     "output_type": "execute_result"
    }
   ],
   "source": [
    "from dotenv import load_dotenv\n",
    "\n",
    "load_dotenv(override=True)"
   ]
  },
  {
   "cell_type": "markdown",
   "id": "a32fa696",
   "metadata": {},
   "source": [
    "We will need to equip our researchers with some tools, web search tools in particular. These tools can be customized as much as we might need to narrow down the potential responses."
   ]
  },
  {
   "cell_type": "code",
   "execution_count": 2,
   "id": "a251c914",
   "metadata": {},
   "outputs": [],
   "source": [
    "from agno.tools.tavily import TavilyTools\n",
    "\n",
    "# Search engine\n",
    "search = TavilyTools(\n",
    "    include_answer=True,\n",
    "    search_depth='basic',\n",
    "    format='markdown',\n",
    "    max_tokens=100\n",
    ")"
   ]
  },
  {
   "cell_type": "markdown",
   "id": "8b0d0071",
   "metadata": {},
   "source": [
    "A first agent will take care of the SEO analysis while the second agent optimizes the content. If both collaborate the impact of the content creating will be given by the ability to search and refine the context by the first agent, the SEO analyst looking for keywords."
   ]
  },
  {
   "cell_type": "code",
   "execution_count": 5,
   "id": "746cbf1b",
   "metadata": {},
   "outputs": [],
   "source": [
    "from agno.agent import Agent\n",
    "from agno.models.google import Gemini\n",
    "\n",
    "seo_analyst = Agent(\n",
    "    name=\"SEO Analyst\",\n",
    "    role=\"Discovers the keywords needed to boost the position of the site to be improved.\",\n",
    "    model=Gemini(id=\"gemini-2.5-flash\", temperature=0),\n",
    "    tools=[search],\n",
    "    instructions=\"\"\"\n",
    "        Backstory:\n",
    "        \n",
    "        You work in Spain, most of your requests come from Spanish companies so you prioritize the positioning in Spanish speaking searches.\n",
    "        Your specialty is identifying keywords to better position the products highlighted by the company.\n",
    "        You conduct research on competitors and search results to better differentiate the offering and be more competitive.\n",
    "\n",
    "        Response format:\n",
    "        Always include sources.\n",
    "    \"\"\",\n",
    ")\n",
    "\n",
    "strategist = Agent(\n",
    "    name=\"Content strategist\",\n",
    "    role=\"Creates attractive and engaging content to improve SEO positioning.\",\n",
    "    model=Gemini(id=\"gemini-2.5-flash\", temperature=0.6),\n",
    "    tools=[search], # It might not need it but just in case\n",
    "    instructions=\"\"\"\n",
    "        Backstory:\n",
    "        \n",
    "        You are a renowned Content Strategist, known for your insightful and engaging articles.\n",
    "        Your specialty is transforming complex concepts into captivating narratives with high SEO impact.\n",
    "\n",
    "        Response format:\n",
    "        Always include sources.\n",
    "    \"\"\",\n",
    ")"
   ]
  },
  {
   "cell_type": "markdown",
   "id": "922072b6",
   "metadata": {},
   "source": [
    "We need to team the up and assign them the task to be performed. This requires a **manager** with some reasoning capability to efficiently use the resources it has. It then requires:\n",
    "\n",
    "* Reasoning capabilities\n",
    "* Some instructions\n",
    "* when to end the work"
   ]
  },
  {
   "cell_type": "code",
   "execution_count": 9,
   "id": "0a6a8a92",
   "metadata": {},
   "outputs": [],
   "source": [
    "from agno.team.team import Team\n",
    "from agno.tools.reasoning import ReasoningTools\n",
    "\n",
    "seon_team = Team(\n",
    "    name=\"SEO improving content creation team\",\n",
    "    model=Gemini(id=\"gemini-2.5-flash\", temperature=0.3),\n",
    "    members=[seo_analyst, strategist],\n",
    "    tools=[ReasoningTools(add_instructions=True)],\n",
    "    instructions=[\n",
    "        \"Collaborate to provide comprehensive SEO improving insights\",\n",
    "        \"Consider both fundamental analysis and market sentiment\",\n",
    "        \"Use an engaging language to provide guidance to the user asking the questions\",\n",
    "        \"Present findings in a structured, easy-to-follow format\",\n",
    "        \"Only output the final consolidated response, not individual agent responses\",\n",
    "    ],\n",
    "    markdown=True,\n",
    "    show_members_responses=True,\n",
    "    enable_agentic_state=True,\n",
    ")"
   ]
  },
  {
   "cell_type": "code",
   "execution_count": 10,
   "id": "fed5fe46",
   "metadata": {},
   "outputs": [
    {
     "data": {
      "application/vnd.jupyter.widget-view+json": {
       "model_id": "e6a15e20dd0b4c2ba53ad9030d84998f",
       "version_major": 2,
       "version_minor": 0
      },
      "text/plain": [
       "Output()"
      ]
     },
     "metadata": {},
     "output_type": "display_data"
    },
    {
     "data": {
      "text/html": [
       "<pre style=\"white-space:pre;overflow-x:auto;line-height:normal;font-family:Menlo,'DejaVu Sans Mono',consolas,'Courier New',monospace\"></pre>\n"
      ],
      "text/plain": []
     },
     "metadata": {},
     "output_type": "display_data"
    }
   ],
   "source": [
    "seon_team.print_response(\n",
    "\"\"\"The Bridge School is providing upskiller courses dedicated to improving the abilities of professionals with a special focus on Data Science and Artificial intelligence.\n",
    "How would you recommend improving the text and visuals of that section fo the site to achieve that goal?\n",
    "\"\"\",\n",
    "    stream=True,\n",
    "    show_full_reasoning=True,\n",
    "    stream_intermediate_steps=True,\n",
    ")"
   ]
  }
 ],
 "metadata": {
  "kernelspec": {
   "display_name": "agents",
   "language": "python",
   "name": "python3"
  },
  "language_info": {
   "codemirror_mode": {
    "name": "ipython",
    "version": 3
   },
   "file_extension": ".py",
   "mimetype": "text/x-python",
   "name": "python",
   "nbconvert_exporter": "python",
   "pygments_lexer": "ipython3",
   "version": "3.12.7"
  }
 },
 "nbformat": 4,
 "nbformat_minor": 5
}
