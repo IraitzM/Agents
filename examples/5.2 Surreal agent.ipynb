{
 "cells": [
  {
   "cell_type": "code",
   "execution_count": 1,
   "id": "720a080b",
   "metadata": {},
   "outputs": [
    {
     "data": {
      "text/plain": [
       "True"
      ]
     },
     "execution_count": 1,
     "metadata": {},
     "output_type": "execute_result"
    }
   ],
   "source": [
    "from dotenv import load_dotenv\n",
    "\n",
    "load_dotenv(override=True)"
   ]
  },
  {
   "cell_type": "markdown",
   "id": "66be6a81",
   "metadata": {},
   "source": [
    "## SurrealDB\n",
    "\n",
    "[SurrealDB](https://surrealdb.com/) has emerged as a multi-mode performant data-base management system that also allows for vector search. Agno offers support to this type of data base: https://docs.agno.com/vectordb/surrealdb\n",
    "\n",
    "You might select between Cloud hosted of self-hosted options:\n",
    "```sh\n",
    "docker run --rm \\\n",
    "  --pull always \\\n",
    "  -p 8000:8000 \\\n",
    "  surrealdb/surrealdb:latest \\\n",
    "  start \\\n",
    "  --user root \\\n",
    "  --pass root\n",
    "```\n",
    "\n",
    "Either way, a **namespace**, **database**, **user** and **password** must be provided."
   ]
  },
  {
   "cell_type": "code",
   "execution_count": 2,
   "id": "0b796b54",
   "metadata": {},
   "outputs": [],
   "source": [
    "import os\n",
    "from surrealdb import Surreal\n",
    "\n",
    "# SurrealDB connection parameters\n",
    "SURREALDB_URL = os.getenv(\"SURREAL_HOST\")\n",
    "SURREALDB_USER = os.getenv(\"SURREAL_USER\")\n",
    "SURREALDB_PASSWORD = os.getenv(\"SURREAL_PASS\")\n",
    "SURREALDB_NAMESPACE = os.getenv(\"SURREAL_NAMESPACE\")\n",
    "SURREALDB_DATABASE = os.getenv(\"SURREAL_DB\")\n",
    "\n",
    "# Create a client\n",
    "client = Surreal(url=SURREALDB_URL)\n",
    "client.signin({\"username\": SURREALDB_USER, \"password\": SURREALDB_PASSWORD})\n",
    "client.use(namespace=SURREALDB_NAMESPACE, database=SURREALDB_DATABASE)"
   ]
  },
  {
   "cell_type": "markdown",
   "id": "3f7a4c63",
   "metadata": {},
   "source": [
    "Given the multi-model versatile schema that SurrealDB provides we can do complex searches that take into consideration semantical closeness as well as relational graph between chunk. The **Hierarchical Navigable Small World** (HNSW) algorithm is a graph-based approximate nearest neighbor search technique used in many vector databases. Nearest neighbor search without an index involves computing the distance from the query to each point in the database, which for large datasets is computationally prohibitive.\n",
    "\n",
    "https://www.pinecone.io/learn/series/faiss/hnsw/"
   ]
  },
  {
   "cell_type": "code",
   "execution_count": 6,
   "id": "67bc8760",
   "metadata": {},
   "outputs": [
    {
     "data": {
      "text/html": [
       "<pre style=\"white-space:pre;overflow-x:auto;line-height:normal;font-family:Menlo,'DejaVu Sans Mono',consolas,'Courier New',monospace\"><span style=\"color: #000080; text-decoration-color: #000080\">INFO</span> Dropping collection                                                                                           \n",
       "</pre>\n"
      ],
      "text/plain": [
       "\u001b[34mINFO\u001b[0m Dropping collection                                                                                           \n"
      ]
     },
     "metadata": {},
     "output_type": "display_data"
    },
    {
     "data": {
      "text/html": [
       "<pre style=\"white-space:pre;overflow-x:auto;line-height:normal;font-family:Menlo,'DejaVu Sans Mono',consolas,'Courier New',monospace\"><span style=\"color: #000080; text-decoration-color: #000080\">INFO</span> Creating collection                                                                                           \n",
       "</pre>\n"
      ],
      "text/plain": [
       "\u001b[34mINFO\u001b[0m Creating collection                                                                                           \n"
      ]
     },
     "metadata": {},
     "output_type": "display_data"
    },
    {
     "data": {
      "text/html": [
       "<pre style=\"white-space:pre;overflow-x:auto;line-height:normal;font-family:Menlo,'DejaVu Sans Mono',consolas,'Courier New',monospace\"><span style=\"color: #000080; text-decoration-color: #000080\">INFO</span> Loading knowledge base                                                                                        \n",
       "</pre>\n"
      ],
      "text/plain": [
       "\u001b[34mINFO\u001b[0m Loading knowledge base                                                                                        \n"
      ]
     },
     "metadata": {},
     "output_type": "display_data"
    },
    {
     "data": {
      "text/html": [
       "<pre style=\"white-space:pre;overflow-x:auto;line-height:normal;font-family:Menlo,'DejaVu Sans Mono',consolas,'Courier New',monospace\"><span style=\"color: #000080; text-decoration-color: #000080\">INFO</span> Reading: <span style=\"color: #0000ff; text-decoration-color: #0000ff; text-decoration: underline\">https://agno-public.s3.amazonaws.com/recipes/ThaiRecipes.pdf</span>                                         \n",
       "</pre>\n"
      ],
      "text/plain": [
       "\u001b[34mINFO\u001b[0m Reading: \u001b[4;94mhttps://agno-public.s3.amazonaws.com/recipes/ThaiRecipes.pdf\u001b[0m                                         \n"
      ]
     },
     "metadata": {},
     "output_type": "display_data"
    },
    {
     "data": {
      "text/html": [
       "<pre style=\"white-space:pre;overflow-x:auto;line-height:normal;font-family:Menlo,'DejaVu Sans Mono',consolas,'Courier New',monospace\"><span style=\"color: #000080; text-decoration-color: #000080\">INFO</span> Added <span style=\"color: #008080; text-decoration-color: #008080; font-weight: bold\">14</span> documents to knowledge base                                                                          \n",
       "</pre>\n"
      ],
      "text/plain": [
       "\u001b[34mINFO\u001b[0m Added \u001b[1;36m14\u001b[0m documents to knowledge base                                                                          \n"
      ]
     },
     "metadata": {},
     "output_type": "display_data"
    }
   ],
   "source": [
    "from agno.vectordb.surrealdb import SurrealDb\n",
    "from agno.embedder.google import GeminiEmbedder\n",
    "from agno.knowledge.pdf_url import PDFUrlKnowledgeBase\n",
    "\n",
    "# Database\n",
    "surrealdb = SurrealDb(\n",
    "    client=client,\n",
    "    collection=\"recipes\",  # Collection name for storing documents\n",
    "    efc=150,  # HNSW construction time/accuracy trade-off\n",
    "    m=12,  # HNSW max number of connections per element\n",
    "    search_ef=40,  # HNSW search time/accuracy trade-off\n",
    "    embedder=GeminiEmbedder(),\n",
    ")\n",
    "\n",
    "# Knowledge base\n",
    "knowledge_base = PDFUrlKnowledgeBase(\n",
    "    urls=[\"https://agno-public.s3.amazonaws.com/recipes/ThaiRecipes.pdf\"],\n",
    "    vector_db=surrealdb\n",
    ")\n",
    "knowledge_base.load(recreate=True)"
   ]
  },
  {
   "cell_type": "markdown",
   "id": "33f698ee",
   "metadata": {},
   "source": [
    "Once loaded we can explore the embeddings and texts extracted through their UI.\n",
    "\n",
    "![](../images/surrealdb.png)"
   ]
  },
  {
   "cell_type": "markdown",
   "id": "42b3011d",
   "metadata": {},
   "source": [
    "Create an agent and ask about some Thai recipes."
   ]
  },
  {
   "cell_type": "code",
   "execution_count": 8,
   "id": "208ab34e",
   "metadata": {},
   "outputs": [
    {
     "data": {
      "application/vnd.jupyter.widget-view+json": {
       "model_id": "2d864875ad6046ffbb0cf0a248925904",
       "version_major": 2,
       "version_minor": 0
      },
      "text/plain": [
       "Output()"
      ]
     },
     "metadata": {},
     "output_type": "display_data"
    },
    {
     "data": {
      "text/html": [
       "<pre style=\"white-space:pre;overflow-x:auto;line-height:normal;font-family:Menlo,'DejaVu Sans Mono',consolas,'Courier New',monospace\"></pre>\n"
      ],
      "text/plain": []
     },
     "metadata": {},
     "output_type": "display_data"
    }
   ],
   "source": [
    "from agno.agent import Agent\n",
    "from agno.models.google import Gemini\n",
    "\n",
    "# Create agent and query synchronously\n",
    "agent = Agent(\n",
    "    model=Gemini(id=\"gemini-2.5-flash\", temperature=0),\n",
    "    knowledge=knowledge_base,\n",
    "    show_tool_calls=True\n",
    ")\n",
    "agent.print_response(\n",
    "    \"What are the 3 categories of Thai SELECT is given to restaurants overseas?\",\n",
    "    markdown=True,\n",
    "    stream=True\n",
    ")"
   ]
  }
 ],
 "metadata": {
  "kernelspec": {
   "display_name": "agents",
   "language": "python",
   "name": "python3"
  },
  "language_info": {
   "codemirror_mode": {
    "name": "ipython",
    "version": 3
   },
   "file_extension": ".py",
   "mimetype": "text/x-python",
   "name": "python",
   "nbconvert_exporter": "python",
   "pygments_lexer": "ipython3",
   "version": "3.12.7"
  }
 },
 "nbformat": 4,
 "nbformat_minor": 5
}
