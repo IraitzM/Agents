{
 "cells": [
  {
   "cell_type": "markdown",
   "id": "d31c946a",
   "metadata": {},
   "source": [
    "We would like to start building our agents, so we need to specify som characteristics to it.\n",
    "\n",
    "* The **role** it will play\n",
    "* The set of instructions that condition its **mind**\n",
    "* The **tools** it has available"
   ]
  },
  {
   "cell_type": "code",
   "execution_count": 1,
   "id": "9ffa2f62",
   "metadata": {},
   "outputs": [
    {
     "data": {
      "text/plain": [
       "True"
      ]
     },
     "execution_count": 1,
     "metadata": {},
     "output_type": "execute_result"
    }
   ],
   "source": [
    "from dotenv import load_dotenv\n",
    "\n",
    "load_dotenv(override=True)"
   ]
  },
  {
   "cell_type": "markdown",
   "id": "1522fdb5",
   "metadata": {},
   "source": [
    "We can define the [basic parameters](https://python.langchain.com/api_reference/google_genai/chat_models/langchain_google_genai.chat_models.ChatGoogleGenerativeAI.html) that will condition the agent's mind, the Gemini LLM in our case.\n",
    "\n",
    "Also create a basic instruction on how the LLM will act in this particular case. Feel free to mention the search tool that will be made available and how the agent can use it for different purposes (like fact checking)."
   ]
  },
  {
   "cell_type": "code",
   "execution_count": 2,
   "id": "08148201",
   "metadata": {},
   "outputs": [
    {
     "name": "stderr",
     "output_type": "stream",
     "text": [
      "WARNING: All log messages before absl::InitializeLog() is called are written to STDERR\n",
      "E0000 00:00:1759252986.104881 1595137 alts_credentials.cc:93] ALTS creds ignored. Not running on GCP and untrusted ALTS is not enabled.\n"
     ]
    }
   ],
   "source": [
    "from langchain_google_genai import ChatGoogleGenerativeAI\n",
    "\n",
    "llm = ChatGoogleGenerativeAI(\n",
    "    model=\"gemini-2.5-flash\", \n",
    "    temperature=0,\n",
    "    max_tokens=None,\n",
    "    timeout=None,\n",
    "    max_retries=2,\n",
    ")"
   ]
  },
  {
   "cell_type": "markdown",
   "id": "4f330f52",
   "metadata": {},
   "source": [
    "Imaging how a conversation between a human and an agent could go..."
   ]
  },
  {
   "cell_type": "code",
   "execution_count": 3,
   "id": "3929fcf1",
   "metadata": {},
   "outputs": [
    {
     "name": "stdout",
     "output_type": "stream",
     "text": [
      "================================\u001b[1m Human Message \u001b[0m=================================\n",
      "Name: Iraitz\n",
      "\n",
      "Hi! Could you help me with some math\n",
      "==================================\u001b[1m Ai Message \u001b[0m==================================\n",
      "Name: Model\n",
      "\n",
      "Sure\n",
      "================================\u001b[1m Human Message \u001b[0m=================================\n",
      "Name: Iraitz\n",
      "\n",
      "How much it is 2 + 3?\n",
      "==================================\u001b[1m Ai Message \u001b[0m==================================\n",
      "Name: Model\n",
      "\n",
      "The correct answer is 5\n"
     ]
    }
   ],
   "source": [
    "from langchain_core.messages import AIMessage, HumanMessage\n",
    "\n",
    "messages = [HumanMessage(content=f\"Hi! Could you help me with some math\", name=\"Iraitz\")]\n",
    "messages.append(AIMessage(content=f\"Sure\", name=\"Model\"))\n",
    "messages.append(HumanMessage(content=f\"How much it is 2 + 3?\",name=\"Iraitz\"))\n",
    "messages.append(AIMessage(content=f\"The correct answer is 5\", name=\"Model\"))\n",
    "\n",
    "for m in messages:\n",
    "    m.pretty_print()"
   ]
  },
  {
   "cell_type": "markdown",
   "id": "c6f43cb4",
   "metadata": {},
   "source": [
    "Tools allow the LLM to plan some actions by the agent that can be performed and not simply extracted from the LLMs generative process. This ensures consistency but also allows for better resource usage."
   ]
  },
  {
   "cell_type": "code",
   "execution_count": 4,
   "id": "8e4bfa0b",
   "metadata": {},
   "outputs": [],
   "source": [
    "def multiply(a: int, b: int) -> int:\n",
    "    \"\"\"Multiply a and b.\n",
    "\n",
    "    Args:\n",
    "        a: first int\n",
    "        b: second int\n",
    "    \"\"\"\n",
    "    return a * b\n",
    "\n",
    "llm_with_tools = llm.bind_tools([multiply])"
   ]
  },
  {
   "cell_type": "code",
   "execution_count": 5,
   "id": "f133797c",
   "metadata": {},
   "outputs": [
    {
     "data": {
      "text/plain": [
       "''"
      ]
     },
     "execution_count": 5,
     "metadata": {},
     "output_type": "execute_result"
    }
   ],
   "source": [
    "tool_call = llm_with_tools.invoke([HumanMessage(content=f\"What is 2 multiplied by 3\", name=\"Iraitz\")])\n",
    "tool_call.content"
   ]
  },
  {
   "cell_type": "markdown",
   "id": "7d8d1375",
   "metadata": {},
   "source": [
    "But letting the LLM know about this **tool** its message back has no content... but some request for tool calling for the agent."
   ]
  },
  {
   "cell_type": "code",
   "execution_count": 6,
   "id": "53eb2bf2",
   "metadata": {},
   "outputs": [
    {
     "data": {
      "text/plain": [
       "[{'name': 'multiply',\n",
       "  'args': {'b': 3, 'a': 2},\n",
       "  'id': '30ff4517-682c-4330-925b-68fc8698d3c1',\n",
       "  'type': 'tool_call'}]"
      ]
     },
     "execution_count": 6,
     "metadata": {},
     "output_type": "execute_result"
    }
   ],
   "source": [
    "tool_call.tool_calls"
   ]
  },
  {
   "cell_type": "markdown",
   "id": "43698876",
   "metadata": {},
   "source": [
    "That way the agent can call the tool, collect the answer and decide how to route it. We can describe it as a graph where the interaction is directed to the LLM and and the tool if the LLM decides it can use it for the task."
   ]
  },
  {
   "cell_type": "code",
   "execution_count": 7,
   "id": "b69bb63a",
   "metadata": {},
   "outputs": [
    {
     "data": {
      "image/png": "[encoded data removed]",
      "text/plain": [
       "<IPython.core.display.Image object>"
      ]
     },
     "metadata": {},
     "output_type": "display_data"
    }
   ],
   "source": [
    "from IPython.display import Image, display\n",
    "from langgraph.graph import MessagesState\n",
    "from langgraph.graph import StateGraph, START, END\n",
    "    \n",
    "# Node\n",
    "def tool_calling_llm(state: MessagesState):\n",
    "    return {\"messages\": [llm_with_tools.invoke(state[\"messages\"])]}\n",
    "\n",
    "# Build graph\n",
    "builder = StateGraph(MessagesState)\n",
    "builder.add_node(\"tool_calling_llm\", tool_calling_llm)\n",
    "builder.add_edge(START, \"tool_calling_llm\")\n",
    "builder.add_edge(\"tool_calling_llm\", END)\n",
    "graph = builder.compile()\n",
    "\n",
    "# View\n",
    "display(Image(graph.get_graph().draw_mermaid_png()))"
   ]
  },
  {
   "cell_type": "code",
   "execution_count": 8,
   "id": "542f745f",
   "metadata": {},
   "outputs": [
    {
     "name": "stdout",
     "output_type": "stream",
     "text": [
      "================================\u001b[1m Human Message \u001b[0m=================================\n",
      "\n",
      "Hi!\n",
      "==================================\u001b[1m Ai Message \u001b[0m==================================\n",
      "\n",
      "Hello! How can I help you today?\n"
     ]
    }
   ],
   "source": [
    "messages = graph.invoke({\"messages\": HumanMessage(content=\"Hi!\")})\n",
    "for m in messages['messages']:\n",
    "    m.pretty_print()"
   ]
  },
  {
   "cell_type": "code",
   "execution_count": 9,
   "id": "cb272df4",
   "metadata": {},
   "outputs": [
    {
     "name": "stdout",
     "output_type": "stream",
     "text": [
      "================================\u001b[1m Human Message \u001b[0m=================================\n",
      "\n",
      "Multiply 2 and 3\n",
      "==================================\u001b[1m Ai Message \u001b[0m==================================\n",
      "Tool Calls:\n",
      "  multiply (e928a512-94ef-48cd-b7d2-36098bcb17d3)\n",
      " Call ID: e928a512-94ef-48cd-b7d2-36098bcb17d3\n",
      "  Args:\n",
      "    b: 3\n",
      "    a: 2\n"
     ]
    }
   ],
   "source": [
    "messages = graph.invoke({\"messages\": HumanMessage(content=\"Multiply 2 and 3\")})\n",
    "for m in messages['messages']:\n",
    "    m.pretty_print()"
   ]
  },
  {
   "cell_type": "code",
   "execution_count": 10,
   "id": "baf691cf",
   "metadata": {},
   "outputs": [],
   "source": [
    "query = \"How much is 4 * 5?\"\n",
    "response = llm_with_tools.invoke([\n",
    "    {\"role\": \"system\", \"content\": \"You are an assistant helping with math problems. Be engaging but not too chatty.\"},\n",
    "    {\"role\": \"user\", \"content\": query}\n",
    "])"
   ]
  },
  {
   "cell_type": "code",
   "execution_count": 11,
   "id": "e262f7ee",
   "metadata": {},
   "outputs": [
    {
     "data": {
      "text/plain": [
       "AIMessage(content='', additional_kwargs={'function_call': {'name': 'multiply', 'arguments': '{\"b\": 5, \"a\": 4}'}}, response_metadata={'prompt_feedback': {'block_reason': 0, 'safety_ratings': []}, 'finish_reason': 'STOP', 'model_name': 'gemini-2.5-flash', 'safety_ratings': []}, id='run--e0b551bb-27d1-41ad-891b-c5806c50b325-0', tool_calls=[{'name': 'multiply', 'args': {'b': 5, 'a': 4}, 'id': '0dc0e044-6d4b-4239-aa8d-5c147764c8bb', 'type': 'tool_call'}], usage_metadata={'input_tokens': 75, 'output_tokens': 62, 'total_tokens': 137, 'input_token_details': {'cache_read': 0}, 'output_token_details': {'reasoning': 44}})"
      ]
     },
     "execution_count": 11,
     "metadata": {},
     "output_type": "execute_result"
    }
   ],
   "source": [
    "response"
   ]
  },
  {
   "cell_type": "markdown",
   "id": "c4914195",
   "metadata": {},
   "source": [
    "This pattern is known as ReAct: Reasoning and Acting."
   ]
  },
  {
   "cell_type": "code",
   "execution_count": 12,
   "id": "7fd5dfac",
   "metadata": {},
   "outputs": [
    {
     "name": "stdout",
     "output_type": "stream",
     "text": [
      "================================\u001b[1m Human Message \u001b[0m=================================\n",
      "\n",
      "How much is 4 * 5?\n",
      "==================================\u001b[1m Ai Message \u001b[0m==================================\n",
      "Tool Calls:\n",
      "  multiply (b3a17e63-eb92-4304-9cb8-539523446f80)\n",
      " Call ID: b3a17e63-eb92-4304-9cb8-539523446f80\n",
      "  Args:\n",
      "    b: 5\n",
      "    a: 4\n",
      "=================================\u001b[1m Tool Message \u001b[0m=================================\n",
      "Name: multiply\n",
      "\n",
      "20\n",
      "==================================\u001b[1m Ai Message \u001b[0m==================================\n",
      "\n",
      "The product of 4 and 5 is 20.\n"
     ]
    }
   ],
   "source": [
    "from langgraph.prebuilt import create_react_agent\n",
    "\n",
    "agent_executor = create_react_agent(llm, [multiply])\n",
    "\n",
    "input = [\n",
    "    {\"role\": \"system\", \"content\": \"You are an assistant helping with math problems. Be engaging but not too chatty.\"},\n",
    "    {\"role\": \"user\", \"content\": query}\n",
    "]\n",
    "\n",
    "for step in agent_executor.stream({\"messages\": input}, stream_mode=\"values\"):\n",
    "    step[\"messages\"][-1].pretty_print()"
   ]
  },
  {
   "cell_type": "markdown",
   "id": "cbf6dcef",
   "metadata": {},
   "source": [
    "More on [ReAct](https://www.promptingguide.ai/techniques/react).\n",
    "\n",
    "If tracing is activated, this actions will be seen in the LangSmith tracing console.\n",
    "\n",
    "![trace](../images/agenttool_trace.png)"
   ]
  },
  {
   "cell_type": "markdown",
   "id": "806ec8b8",
   "metadata": {},
   "source": [
    "## Agno\n",
    "\n",
    "[Agno](https://docs.agno.com/introduction) has some really nice way of presenting these options so that it is easy to create your first agent."
   ]
  },
  {
   "cell_type": "code",
   "execution_count": 5,
   "id": "55a9b78b",
   "metadata": {},
   "outputs": [
    {
     "data": {
      "application/vnd.jupyter.widget-view+json": {
       "model_id": "ab4dcfcc55c7483e85a4df810d82ead2",
       "version_major": 2,
       "version_minor": 0
      },
      "text/plain": [
       "Output()"
      ]
     },
     "metadata": {},
     "output_type": "display_data"
    },
    {
     "data": {
      "text/html": [
       "<pre style=\"white-space:pre;overflow-x:auto;line-height:normal;font-family:Menlo,'DejaVu Sans Mono',consolas,'Courier New',monospace\"></pre>\n"
      ],
      "text/plain": []
     },
     "metadata": {},
     "output_type": "display_data"
    }
   ],
   "source": [
    "from agno.agent import Agent\n",
    "from agno.models.google import Gemini\n",
    "\n",
    "# Create a News Reporter Agent with a fun personality\n",
    "agent = Agent(\n",
    "    model=Gemini(id=\"gemini-2.5-flash\", temperature=0),\n",
    "    instructions=\"You are an assistant helping with math problems. Be engaging but not too chatty.\",\n",
    "    tools=[multiply],\n",
    "    markdown=True,\n",
    ")\n",
    "\n",
    "# Example usage\n",
    "agent.print_response(\n",
    "    \"Hi, could you help me with some math problems?\", stream=True\n",
    ")"
   ]
  },
  {
   "cell_type": "code",
   "execution_count": 7,
   "id": "2c04d087",
   "metadata": {},
   "outputs": [
    {
     "data": {
      "application/vnd.jupyter.widget-view+json": {
       "model_id": "c3b24218cf664b4ca367877799af7260",
       "version_major": 2,
       "version_minor": 0
      },
      "text/plain": [
       "Output()"
      ]
     },
     "metadata": {},
     "output_type": "display_data"
    },
    {
     "data": {
      "text/html": [
       "<pre style=\"white-space:pre;overflow-x:auto;line-height:normal;font-family:Menlo,'DejaVu Sans Mono',consolas,'Courier New',monospace\"></pre>\n"
      ],
      "text/plain": []
     },
     "metadata": {},
     "output_type": "display_data"
    }
   ],
   "source": [
    "agent.print_response(\n",
    "    \"How much is 4 * 5?\", stream=True\n",
    ")"
   ]
  },
  {
   "cell_type": "markdown",
   "id": "c4216fc4",
   "metadata": {},
   "source": [
    "## Tracing in Agno\n",
    "\n",
    "Agno allows for all sort of tracing but we can also use [LangSmith via OpenTelemetry](https://docs.agno.com/examples/concepts/observability/langsmith-via-openinference)"
   ]
  },
  {
   "cell_type": "code",
   "execution_count": 16,
   "id": "66d76b0c",
   "metadata": {},
   "outputs": [],
   "source": [
    "import os\n",
    "from openinference.instrumentation.agno import AgnoInstrumentor\n",
    "from opentelemetry import trace as trace_api\n",
    "from opentelemetry.exporter.otlp.proto.http.trace_exporter import OTLPSpanExporter\n",
    "from opentelemetry.sdk.trace import TracerProvider\n",
    "from opentelemetry.sdk.trace.export import SimpleSpanProcessor\n",
    "\n",
    "# Set the endpoint and headers for LangSmith\n",
    "endpoint = \"https://api.smith.langchain.com/otel/v1/traces\"\n",
    "headers = {\n",
    "    \"x-api-key\": os.getenv(\"LANGSMITH_API_KEY\"),\n",
    "    \"Langsmith-Project\": os.getenv(\"LANGSMITH_PROJECT\"),\n",
    "}\n",
    "\n",
    "# Configure the tracer provider\n",
    "tracer_provider = TracerProvider()\n",
    "tracer_provider.add_span_processor(\n",
    "    SimpleSpanProcessor(OTLPSpanExporter(endpoint=endpoint, headers=headers))\n",
    ")\n",
    "trace_api.set_tracer_provider(tracer_provider=tracer_provider)\n",
    "\n",
    "# Start instrumenting agno\n",
    "AgnoInstrumentor().instrument()"
   ]
  },
  {
   "cell_type": "code",
   "execution_count": 17,
   "id": "79ae9f41",
   "metadata": {},
   "outputs": [
    {
     "data": {
      "application/vnd.jupyter.widget-view+json": {
       "model_id": "1bb34f44639f4e3e8ea11438fb393d8e",
       "version_major": 2,
       "version_minor": 0
      },
      "text/plain": [
       "Output()"
      ]
     },
     "metadata": {},
     "output_type": "display_data"
    },
    {
     "data": {
      "text/html": [
       "<pre style=\"white-space:pre;overflow-x:auto;line-height:normal;font-family:Menlo,'DejaVu Sans Mono',consolas,'Courier New',monospace\"><span style=\"color: #808000; text-decoration-color: #808000\">WARNING </span> No run responses found in AgentSession <span style=\"color: #800080; text-decoration-color: #800080; font-style: italic\">None</span>                                                               \n",
       "</pre>\n"
      ],
      "text/plain": [
       "\u001b[33mWARNING \u001b[0m No run responses found in AgentSession \u001b[3;35mNone\u001b[0m                                                               \n"
      ]
     },
     "metadata": {},
     "output_type": "display_data"
    },
    {
     "data": {
      "text/html": [
       "<pre style=\"white-space:pre;overflow-x:auto;line-height:normal;font-family:Menlo,'DejaVu Sans Mono',consolas,'Courier New',monospace\"></pre>\n"
      ],
      "text/plain": []
     },
     "metadata": {},
     "output_type": "display_data"
    }
   ],
   "source": [
    "agent.print_response(\n",
    "    \"And how much is it 6 * 5?\", stream=True\n",
    ")"
   ]
  },
  {
   "cell_type": "markdown",
   "id": "5a392edc",
   "metadata": {},
   "source": [
    "We can see that the traces are a but uglier, but also more details are revealed on how Agno instructs our options like `markdown=True` down to the LLM.\n",
    "\n",
    "![agnotrace](../images/agno_traces.png)"
   ]
  }
 ],
 "metadata": {
  "kernelspec": {
   "display_name": "agents",
   "language": "python",
   "name": "python3"
  },
  "language_info": {
   "codemirror_mode": {
    "name": "ipython",
    "version": 3
   },
   "file_extension": ".py",
   "mimetype": "text/x-python",
   "name": "python",
   "nbconvert_exporter": "python",
   "pygments_lexer": "ipython3",
   "version": "3.13.7+"
  }
 },
 "nbformat": 4,
 "nbformat_minor": 5
}
