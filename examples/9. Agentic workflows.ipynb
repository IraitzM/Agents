{
 "cells": [
  {
   "cell_type": "markdown",
   "id": "98d6e8de",
   "metadata": {},
   "source": [
    "# Agentic workflows\n",
    "\n",
    "These workflows are essentially the complete package. Adding actions before and after agent calls and chaining different agent calls, considering intermediate storage like caches. There are plenty platforms offering this functionality but of course, for those looking for a high degree of customization frameworks like LangChain or Agno can be of help.\n",
    "\n",
    "Check out the docs: https://docs.agno.com/workflows/introduction"
   ]
  },
  {
   "cell_type": "code",
   "execution_count": 1,
   "id": "580736d7",
   "metadata": {},
   "outputs": [
    {
     "data": {
      "text/plain": [
       "True"
      ]
     },
     "execution_count": 1,
     "metadata": {},
     "output_type": "execute_result"
    }
   ],
   "source": [
    "from dotenv import load_dotenv\n",
    "\n",
    "load_dotenv(override=True)"
   ]
  },
  {
   "cell_type": "code",
   "execution_count": 2,
   "id": "02f3d2ea",
   "metadata": {},
   "outputs": [],
   "source": [
    "from textwrap import dedent\n",
    "\n",
    "from agno.agent import Agent\n",
    "from agno.db.sqlite import SqliteDb\n",
    "from agno.models.openai import OpenAIChat\n",
    "from agno.tools.duckduckgo import DuckDuckGoTools\n",
    "from agno.tools.hackernews import HackerNewsTools\n",
    "\n",
    "# Define agents\n",
    "web_agent = Agent(\n",
    "    name=\"Web Agent\",\n",
    "    model=OpenAIChat(id=\"gpt-5-mini\"),\n",
    "    tools=[DuckDuckGoTools()],\n",
    "    role=\"Search the web for the latest news and trends\",\n",
    ")\n",
    "hackernews_agent = Agent(\n",
    "    name=\"Hackernews Agent\",\n",
    "    model=OpenAIChat(id=\"gpt-5-mini\"),\n",
    "    tools=[HackerNewsTools()],\n",
    "    role=\"Extract key insights and content from Hackernews posts\",\n",
    ")\n",
    "\n",
    "writer_agent = Agent(\n",
    "    name=\"Writer Agent\",\n",
    "    model=OpenAIChat(id=\"gpt-5-mini\"),\n",
    "    instructions=\"Write a blog post on the topic\",\n",
    ")"
   ]
  },
  {
   "cell_type": "code",
   "execution_count": 3,
   "id": "df7bc4e9",
   "metadata": {},
   "outputs": [],
   "source": [
    "from agno.workflow.types import StepInput, StepOutput\n",
    "\n",
    "def prepare_input_for_web_search(step_input: StepInput) -> StepOutput:\n",
    "    topic = step_input.input\n",
    "    return StepOutput(\n",
    "        content=dedent(f\"\"\"\\\n",
    "\tI'm writing a blog post on the topic\n",
    "\t<topic>\n",
    "\t{topic}\n",
    "\t</topic>\n",
    "\n",
    "\tSearch the web for atleast 10 articles\\\n",
    "\t\"\"\")\n",
    "    )\n",
    "\n",
    "def prepare_input_for_writer(step_input: StepInput) -> StepOutput:\n",
    "    topic = step_input.input\n",
    "    research_team_output = step_input.previous_step_content\n",
    "\n",
    "    return StepOutput(\n",
    "        content=dedent(f\"\"\"\\\n",
    "\tI'm writing a blog post on the topic:\n",
    "\t<topic>\n",
    "\t{topic}\n",
    "\t</topic>\n",
    "\n",
    "\tHere is information from the web:\n",
    "\t<research_results>\n",
    "\t{research_team_output}\n",
    "\t<research_results>\\\n",
    "\t\"\"\")\n",
    "    )"
   ]
  },
  {
   "cell_type": "code",
   "execution_count": 4,
   "id": "b6e9038a",
   "metadata": {},
   "outputs": [],
   "source": [
    "from agno.team import Team\n",
    "\n",
    "# Define research team for complex analysis\n",
    "research_team = Team(\n",
    "    name=\"Research Team\",\n",
    "    members=[hackernews_agent, web_agent],\n",
    "    instructions=\"Research tech topics from Hackernews and the web\",\n",
    ")"
   ]
  },
  {
   "cell_type": "code",
   "execution_count": 5,
   "id": "a9c4dfa8",
   "metadata": {},
   "outputs": [
    {
     "data": {
      "text/html": [
       "<pre style=\"white-space:pre;overflow-x:auto;line-height:normal;font-family:Menlo,'DejaVu Sans Mono',consolas,'Courier New',monospace\"><span style=\"color: #008080; text-decoration-color: #008080\">┏━ Workflow Information ━━━━━━━━━━━━━━━━━━━━━━━━━━━━━━━━━━━━━━━━━━━━━━━━━━━━━━━━━━━━━━━━━━━━━━━━━━━━━━━━━━━━━━━━━━┓</span>\n",
       "<span style=\"color: #008080; text-decoration-color: #008080\">┃</span>                                                                                                                 <span style=\"color: #008080; text-decoration-color: #008080\">┃</span>\n",
       "<span style=\"color: #008080; text-decoration-color: #008080\">┃</span> <span style=\"font-weight: bold\">Workflow:</span> Blog Post Workflow                                                                                    <span style=\"color: #008080; text-decoration-color: #008080\">┃</span>\n",
       "<span style=\"color: #008080; text-decoration-color: #008080\">┃</span>                                                                                                                 <span style=\"color: #008080; text-decoration-color: #008080\">┃</span>\n",
       "<span style=\"color: #008080; text-decoration-color: #008080\">┃</span> <span style=\"font-weight: bold\">Description:</span> Automated blog post creation from Hackernews and the web                                           <span style=\"color: #008080; text-decoration-color: #008080\">┃</span>\n",
       "<span style=\"color: #008080; text-decoration-color: #008080\">┃</span>                                                                                                                 <span style=\"color: #008080; text-decoration-color: #008080\">┃</span>\n",
       "<span style=\"color: #008080; text-decoration-color: #008080\">┃</span> <span style=\"font-weight: bold\">Steps:</span> 4 steps                                                                                                  <span style=\"color: #008080; text-decoration-color: #008080\">┃</span>\n",
       "<span style=\"color: #008080; text-decoration-color: #008080\">┃</span>                                                                                                                 <span style=\"color: #008080; text-decoration-color: #008080\">┃</span>\n",
       "<span style=\"color: #008080; text-decoration-color: #008080\">┃</span> <span style=\"font-weight: bold\">Message:</span> AI trends in 2024                                                                                      <span style=\"color: #008080; text-decoration-color: #008080\">┃</span>\n",
       "<span style=\"color: #008080; text-decoration-color: #008080\">┃</span>                                                                                                                 <span style=\"color: #008080; text-decoration-color: #008080\">┃</span>\n",
       "<span style=\"color: #008080; text-decoration-color: #008080\">┗━━━━━━━━━━━━━━━━━━━━━━━━━━━━━━━━━━━━━━━━━━━━━━━━━━━━━━━━━━━━━━━━━━━━━━━━━━━━━━━━━━━━━━━━━━━━━━━━━━━━━━━━━━━━━━━━━┛</span>\n",
       "</pre>\n"
      ],
      "text/plain": [
       "\u001b[36m┏━\u001b[0m\u001b[36m Workflow Information \u001b[0m\u001b[36m━━━━━━━━━━━━━━━━━━━━━━━━━━━━━━━━━━━━━━━━━━━━━━━━━━━━━━━━━━━━━━━━━━━━━━━━━━━━━━━━━━━━━━━━━\u001b[0m\u001b[36m━┓\u001b[0m\n",
       "\u001b[36m┃\u001b[0m                                                                                                                 \u001b[36m┃\u001b[0m\n",
       "\u001b[36m┃\u001b[0m \u001b[1mWorkflow:\u001b[0m Blog Post Workflow                                                                                    \u001b[36m┃\u001b[0m\n",
       "\u001b[36m┃\u001b[0m                                                                                                                 \u001b[36m┃\u001b[0m\n",
       "\u001b[36m┃\u001b[0m \u001b[1mDescription:\u001b[0m Automated blog post creation from Hackernews and the web                                           \u001b[36m┃\u001b[0m\n",
       "\u001b[36m┃\u001b[0m                                                                                                                 \u001b[36m┃\u001b[0m\n",
       "\u001b[36m┃\u001b[0m \u001b[1mSteps:\u001b[0m 4 steps                                                                                                  \u001b[36m┃\u001b[0m\n",
       "\u001b[36m┃\u001b[0m                                                                                                                 \u001b[36m┃\u001b[0m\n",
       "\u001b[36m┃\u001b[0m \u001b[1mMessage:\u001b[0m AI trends in 2024                                                                                      \u001b[36m┃\u001b[0m\n",
       "\u001b[36m┃\u001b[0m                                                                                                                 \u001b[36m┃\u001b[0m\n",
       "\u001b[36m┗━━━━━━━━━━━━━━━━━━━━━━━━━━━━━━━━━━━━━━━━━━━━━━━━━━━━━━━━━━━━━━━━━━━━━━━━━━━━━━━━━━━━━━━━━━━━━━━━━━━━━━━━━━━━━━━━━┛\u001b[0m\n"
      ]
     },
     "metadata": {},
     "output_type": "display_data"
    },
    {
     "data": {
      "text/html": [
       "<pre style=\"white-space:pre;overflow-x:auto;line-height:normal;font-family:Menlo,'DejaVu Sans Mono',consolas,'Courier New',monospace\"><span style=\"color: #5fd7ff; text-decoration-color: #5fd7ff\">INFO</span> Setting default model to OpenAI Chat                                                                          \n",
       "</pre>\n"
      ],
      "text/plain": [
       "\u001b[38;5;81mINFO\u001b[0m Setting default model to OpenAI Chat                                                                          \n"
      ]
     },
     "metadata": {},
     "output_type": "display_data"
    },
    {
     "data": {
      "application/vnd.jupyter.widget-view+json": {
       "model_id": "09cafcea2f4643be97e648c254b22ce4",
       "version_major": 2,
       "version_minor": 0
      },
      "text/plain": [
       "Output()"
      ]
     },
     "metadata": {},
     "output_type": "display_data"
    },
    {
     "data": {
      "text/html": [
       "<pre style=\"white-space:pre;overflow-x:auto;line-height:normal;font-family:Menlo,'DejaVu Sans Mono',consolas,'Courier New',monospace\"><span style=\"color: #d78700; text-decoration-color: #d78700\">┏━ Step 1: prepare_input_for_web_search (Completed) ━━━━━━━━━━━━━━━━━━━━━━━━━━━━━━━━━━━━━━━━━━━━━━━━━━━━━━━━━━━━━━┓</span>\n",
       "<span style=\"color: #d78700; text-decoration-color: #d78700\">┃</span>                                                                                                                 <span style=\"color: #d78700; text-decoration-color: #d78700\">┃</span>\n",
       "<span style=\"color: #d78700; text-decoration-color: #d78700\">┃</span>                                                                                                                 <span style=\"color: #d78700; text-decoration-color: #d78700\">┃</span>\n",
       "<span style=\"color: #d78700; text-decoration-color: #d78700\">┃</span>                                                                                                                 <span style=\"color: #d78700; text-decoration-color: #d78700\">┃</span>\n",
       "<span style=\"color: #d78700; text-decoration-color: #d78700\">┃</span> I'm writing a blog post on the topic  AI trends in 2024                                                         <span style=\"color: #d78700; text-decoration-color: #d78700\">┃</span>\n",
       "<span style=\"color: #d78700; text-decoration-color: #d78700\">┃</span>                                                                                                                 <span style=\"color: #d78700; text-decoration-color: #d78700\">┃</span>\n",
       "<span style=\"color: #d78700; text-decoration-color: #d78700\">┃</span> Search the web for atleast 10 articles                                                                          <span style=\"color: #d78700; text-decoration-color: #d78700\">┃</span>\n",
       "<span style=\"color: #d78700; text-decoration-color: #d78700\">┃</span>                                                                                                                 <span style=\"color: #d78700; text-decoration-color: #d78700\">┃</span>\n",
       "<span style=\"color: #d78700; text-decoration-color: #d78700\">┗━━━━━━━━━━━━━━━━━━━━━━━━━━━━━━━━━━━━━━━━━━━━━━━━━━━━━━━━━━━━━━━━━━━━━━━━━━━━━━━━━━━━━━━━━━━━━━━━━━━━━━━━━━━━━━━━━┛</span>\n",
       "</pre>\n"
      ],
      "text/plain": [
       "\u001b[38;5;172m┏━\u001b[0m\u001b[38;5;172m Step 1: prepare_input_for_web_search (Completed) \u001b[0m\u001b[38;5;172m━━━━━━━━━━━━━━━━━━━━━━━━━━━━━━━━━━━━━━━━━━━━━━━━━━━━━━━━━━━━━\u001b[0m\u001b[38;5;172m━┓\u001b[0m\n",
       "\u001b[38;5;172m┃\u001b[0m                                                                                                                 \u001b[38;5;172m┃\u001b[0m\n",
       "\u001b[38;5;172m┃\u001b[0m                                                                                                                 \u001b[38;5;172m┃\u001b[0m\n",
       "\u001b[38;5;172m┃\u001b[0m                                                                                                                 \u001b[38;5;172m┃\u001b[0m\n",
       "\u001b[38;5;172m┃\u001b[0m I'm writing a blog post on the topic  AI trends in 2024                                                         \u001b[38;5;172m┃\u001b[0m\n",
       "\u001b[38;5;172m┃\u001b[0m                                                                                                                 \u001b[38;5;172m┃\u001b[0m\n",
       "\u001b[38;5;172m┃\u001b[0m Search the web for atleast 10 articles                                                                          \u001b[38;5;172m┃\u001b[0m\n",
       "\u001b[38;5;172m┃\u001b[0m                                                                                                                 \u001b[38;5;172m┃\u001b[0m\n",
       "\u001b[38;5;172m┗━━━━━━━━━━━━━━━━━━━━━━━━━━━━━━━━━━━━━━━━━━━━━━━━━━━━━━━━━━━━━━━━━━━━━━━━━━━━━━━━━━━━━━━━━━━━━━━━━━━━━━━━━━━━━━━━━┛\u001b[0m\n"
      ]
     },
     "metadata": {},
     "output_type": "display_data"
    },
    {
     "data": {
      "text/html": [
       "<pre style=\"white-space:pre;overflow-x:auto;line-height:normal;font-family:Menlo,'DejaVu Sans Mono',consolas,'Courier New',monospace\"><span style=\"color: #d78700; text-decoration-color: #d78700\">┏━ Step 2: Research Team (Completed) ━━━━━━━━━━━━━━━━━━━━━━━━━━━━━━━━━━━━━━━━━━━━━━━━━━━━━━━━━━━━━━━━━━━━━━━━━━━━━┓</span>\n",
       "<span style=\"color: #d78700; text-decoration-color: #d78700\">┃</span>                                                                                                                 <span style=\"color: #d78700; text-decoration-color: #d78700\">┃</span>\n",
       "<span style=\"color: #d78700; text-decoration-color: #d78700\">┃</span> Here are 12 articles discussing AI trends in 2024:                                                              <span style=\"color: #d78700; text-decoration-color: #d78700\">┃</span>\n",
       "<span style=\"color: #d78700; text-decoration-color: #d78700\">┃</span>                                                                                                                 <span style=\"color: #d78700; text-decoration-color: #d78700\">┃</span>\n",
       "<span style=\"color: #d78700; text-decoration-color: #d78700\">┃</span> <span style=\"color: #808000; text-decoration-color: #808000; font-weight: bold\">  1 </span><span style=\"font-weight: bold\">IDC's 2024 AI opportunity study: Top five AI trends to watch</span> — <a href=\"https://blogs.microsoft.com/blog/2024/11/12/idcs-2024-ai-opportunity-study-top-five-ai-trends-to-watch/\" target=\"_blank\"><span style=\"color: #000080; text-decoration-color: #000080; text-decoration: underline\">Microsoft Blog</span></a>: Summary of IDC findings on   <span style=\"color: #d78700; text-decoration-color: #d78700\">┃</span>\n",
       "<span style=\"color: #d78700; text-decoration-color: #d78700\">┃</span> <span style=\"color: #808000; text-decoration-color: #808000; font-weight: bold\">    </span>generative AI, productivity, custom solutions, ROI for 2024.                                                <span style=\"color: #d78700; text-decoration-color: #d78700\">┃</span>\n",
       "<span style=\"color: #d78700; text-decoration-color: #d78700\">┃</span> <span style=\"color: #808000; text-decoration-color: #808000; font-weight: bold\">  2 </span><span style=\"font-weight: bold\">Top 10: AI Trends in 2024</span> — <a href=\"https://aimagazine.com/top10/top-10-ai-trends-in-2024\" target=\"_blank\"><span style=\"color: #000080; text-decoration-color: #000080; text-decoration: underline\">AI Magazine</span></a>: Roundup of the biggest AI trends of 2024, including ethics,        <span style=\"color: #d78700; text-decoration-color: #d78700\">┃</span>\n",
       "<span style=\"color: #d78700; text-decoration-color: #d78700\">┃</span> <span style=\"color: #808000; text-decoration-color: #808000; font-weight: bold\">    </span>accessibility, and regulation.                                                                              <span style=\"color: #d78700; text-decoration-color: #d78700\">┃</span>\n",
       "<span style=\"color: #d78700; text-decoration-color: #d78700\">┃</span> <span style=\"color: #808000; text-decoration-color: #808000; font-weight: bold\">  3 </span><span style=\"font-weight: bold\">2024 Global Trends in AI</span> — <a href=\"https://www.weka.io/resources/analyst-report/2024-global-trends-in-ai/\" target=\"_blank\"><span style=\"color: #000080; text-decoration-color: #000080; text-decoration: underline\">WEKA (analyst report / landing page)</span></a>: Survey-based report on generative AI,      <span style=\"color: #d78700; text-decoration-color: #d78700\">┃</span>\n",
       "<span style=\"color: #d78700; text-decoration-color: #d78700\">┃</span> <span style=\"color: #808000; text-decoration-color: #808000; font-weight: bold\">    </span>scaling challenges, GPU demand, sustainability.                                                             <span style=\"color: #d78700; text-decoration-color: #d78700\">┃</span>\n",
       "<span style=\"color: #d78700; text-decoration-color: #d78700\">┃</span> <span style=\"color: #808000; text-decoration-color: #808000; font-weight: bold\">  4 </span><span style=\"font-weight: bold\">2024 Global AI Trends Report (PDF)</span> — <a href=\"https://trendsunplugged.io/wp-content/uploads/2024/11/2024-Global-AI-Trends-Report.pdf\" target=\"_blank\"><span style=\"color: #000080; text-decoration-color: #000080; text-decoration: underline\">TrendsUnplugged / WEKA report PDF</span></a>: Full downloadable report on 2024 AI <span style=\"color: #d78700; text-decoration-color: #d78700\">┃</span>\n",
       "<span style=\"color: #d78700; text-decoration-color: #d78700\">┃</span> <span style=\"color: #808000; text-decoration-color: #808000; font-weight: bold\">    </span>trends and practitioner survey results.                                                                     <span style=\"color: #d78700; text-decoration-color: #d78700\">┃</span>\n",
       "<span style=\"color: #d78700; text-decoration-color: #d78700\">┃</span> <span style=\"color: #808000; text-decoration-color: #808000; font-weight: bold\">  5 </span><span style=\"font-weight: bold\">What's next for AI in 2024</span> — <a href=\"https://www.technologyreview.com/2024/01/04/1086046/whats-next-for-ai-in-2024/\" target=\"_blank\"><span style=\"color: #000080; text-decoration-color: #000080; text-decoration: underline\">MIT Technology Review</span></a>: Predictions for 2024, including custom chatbots,        <span style=\"color: #d78700; text-decoration-color: #d78700\">┃</span>\n",
       "<span style=\"color: #d78700; text-decoration-color: #d78700\">┃</span> <span style=\"color: #808000; text-decoration-color: #808000; font-weight: bold\">    </span>generative video, and disinformation risks.                                                                 <span style=\"color: #d78700; text-decoration-color: #d78700\">┃</span>\n",
       "<span style=\"color: #d78700; text-decoration-color: #d78700\">┃</span> <span style=\"color: #808000; text-decoration-color: #808000; font-weight: bold\">  6 </span><span style=\"font-weight: bold\">15 AI Trends of 2024</span> — <a href=\"https://finance.yahoo.com/news/15-ai-trends-2024-225207945.html\" target=\"_blank\"><span style=\"color: #000080; text-decoration-color: #000080; text-decoration: underline\">Yahoo Finance</span></a>: Overview article listing 15 notable AI developments and trends from   <span style=\"color: #d78700; text-decoration-color: #d78700\">┃</span>\n",
       "<span style=\"color: #d78700; text-decoration-color: #d78700\">┃</span> <span style=\"color: #808000; text-decoration-color: #808000; font-weight: bold\">    </span>2024.                                                                                                       <span style=\"color: #d78700; text-decoration-color: #d78700\">┃</span>\n",
       "<span style=\"color: #d78700; text-decoration-color: #d78700\">┃</span> <span style=\"color: #808000; text-decoration-color: #808000; font-weight: bold\">  7 </span><span style=\"font-weight: bold\">Microsoft &amp; IDC Study: Top AI Trends to Watch in 2024</span> — <a href=\"https://technologymagazine.com/articles/microsoft-idc-study-top-ai-trends-to-watch-in-2024\" target=\"_blank\"><span style=\"color: #000080; text-decoration-color: #000080; text-decoration: underline\">Technology Magazine</span></a>: Coverage of the Microsoft–IDC  <span style=\"color: #d78700; text-decoration-color: #d78700\">┃</span>\n",
       "<span style=\"color: #d78700; text-decoration-color: #d78700\">┃</span> <span style=\"color: #808000; text-decoration-color: #808000; font-weight: bold\">    </span>study highlighting GenAI and enterprise adoption trends.                                                    <span style=\"color: #d78700; text-decoration-color: #d78700\">┃</span>\n",
       "<span style=\"color: #d78700; text-decoration-color: #d78700\">┃</span> <span style=\"color: #808000; text-decoration-color: #808000; font-weight: bold\">  8 </span><span style=\"font-weight: bold\">2024 Predictions in AI and Natural Language Processing (NLP)</span> — <a href=\"https://www.dataversity.net/articles/2024-predictions-in-ai-and-natural-language-processing-nlp/\" target=\"_blank\"><span style=\"color: #000080; text-decoration-color: #000080; text-decoration: underline\">DATAVERSITY</span></a>: NLP-focused predictions and     <span style=\"color: #d78700; text-decoration-color: #d78700\">┃</span>\n",
       "<span style=\"color: #d78700; text-decoration-color: #d78700\">┃</span> <span style=\"color: #808000; text-decoration-color: #808000; font-weight: bold\">    </span>practical impacts expected in 2024.                                                                         <span style=\"color: #d78700; text-decoration-color: #d78700\">┃</span>\n",
       "<span style=\"color: #d78700; text-decoration-color: #d78700\">┃</span> <span style=\"color: #808000; text-decoration-color: #808000; font-weight: bold\">  9 </span><span style=\"font-weight: bold\">AI Trends 2024</span> — <a href=\"https://www.generational.pub/p/ai-trends-2024\" target=\"_blank\"><span style=\"color: #000080; text-decoration-color: #000080; text-decoration: underline\">by Kenn So (Generational)</span></a>: Independent 80+ page report summary with data and conference    <span style=\"color: #d78700; text-decoration-color: #d78700\">┃</span>\n",
       "<span style=\"color: #d78700; text-decoration-color: #d78700\">┃</span> <span style=\"color: #808000; text-decoration-color: #808000; font-weight: bold\">    </span>takeaways for 2024.                                                                                         <span style=\"color: #d78700; text-decoration-color: #d78700\">┃</span>\n",
       "<span style=\"color: #d78700; text-decoration-color: #d78700\">┃</span> <span style=\"color: #808000; text-decoration-color: #808000; font-weight: bold\"> 10 </span><span style=\"font-weight: bold\">The Top Artificial Intelligence Trends</span> — <a href=\"https://www.ibm.com/think/insights/artificial-intelligence-trends\" target=\"_blank\"><span style=\"color: #000080; text-decoration-color: #000080; text-decoration: underline\">IBM (Think / Insights)</span></a>: IBM’s perspective on emerging AI trends    <span style=\"color: #d78700; text-decoration-color: #d78700\">┃</span>\n",
       "<span style=\"color: #d78700; text-decoration-color: #d78700\">┃</span> <span style=\"color: #808000; text-decoration-color: #808000; font-weight: bold\">    </span>and responsible scaling—useful for 2024 context.                                                            <span style=\"color: #d78700; text-decoration-color: #d78700\">┃</span>\n",
       "<span style=\"color: #d78700; text-decoration-color: #d78700\">┃</span> <span style=\"color: #808000; text-decoration-color: #808000; font-weight: bold\"> 11 </span><span style=\"font-weight: bold\">Top 10 AI Trends in 2024</span> — <a href=\"https://aimagazine.com/top10/top-10-ai-trends-in-2024\" target=\"_blank\"><span style=\"color: #000080; text-decoration-color: #000080; text-decoration: underline\">AI Magazine (duplicate)</span></a>: Comprehensive trend list worth reading.                 <span style=\"color: #d78700; text-decoration-color: #d78700\">┃</span>\n",
       "<span style=\"color: #d78700; text-decoration-color: #d78700\">┃</span> <span style=\"color: #808000; text-decoration-color: #808000; font-weight: bold\"> 12 </span><span style=\"font-weight: bold\">2024 Predictions in AI (various expert takes aggregated)</span> — <a href=\"https://www.forbes.com/search/?q=AI%20trends%202024\" target=\"_blank\"><span style=\"color: #000080; text-decoration-color: #000080; text-decoration: underline\">Forbes / related coverage</span></a>: Forbes coverage and   <span style=\"color: #d78700; text-decoration-color: #d78700\">┃</span>\n",
       "<span style=\"color: #d78700; text-decoration-color: #d78700\">┃</span> <span style=\"color: #808000; text-decoration-color: #808000; font-weight: bold\">    </span>expert commentary on AI trends and industry impacts in 2024.                                                <span style=\"color: #d78700; text-decoration-color: #d78700\">┃</span>\n",
       "<span style=\"color: #d78700; text-decoration-color: #d78700\">┃</span>                                                                                                                 <span style=\"color: #d78700; text-decoration-color: #d78700\">┃</span>\n",
       "<span style=\"color: #d78700; text-decoration-color: #d78700\">┃</span> Regarding the Hackernews stories, could you clarify whether you are looking for top stories from 2024 about AI  <span style=\"color: #d78700; text-decoration-color: #d78700\">┃</span>\n",
       "<span style=\"color: #d78700; text-decoration-color: #d78700\">┃</span> trends or current top stories that discuss AI trends, regardless of the publication date? And how many stories  <span style=\"color: #d78700; text-decoration-color: #d78700\">┃</span>\n",
       "<span style=\"color: #d78700; text-decoration-color: #d78700\">┃</span> would you like (e.g., top 10)?                                                                                  <span style=\"color: #d78700; text-decoration-color: #d78700\">┃</span>\n",
       "<span style=\"color: #d78700; text-decoration-color: #d78700\">┃</span>                                                                                                                 <span style=\"color: #d78700; text-decoration-color: #d78700\">┃</span>\n",
       "<span style=\"color: #d78700; text-decoration-color: #d78700\">┗━━━━━━━━━━━━━━━━━━━━━━━━━━━━━━━━━━━━━━━━━━━━━━━━━━━━━━━━━━━━━━━━━━━━━━━━━━━━━━━━━━━━━━━━━━━━━━━━━━━━━━━━━━━━━━━━━┛</span>\n",
       "</pre>\n"
      ],
      "text/plain": [
       "\u001b[38;5;172m┏━\u001b[0m\u001b[38;5;172m Step 2: Research Team (Completed) \u001b[0m\u001b[38;5;172m━━━━━━━━━━━━━━━━━━━━━━━━━━━━━━━━━━━━━━━━━━━━━━━━━━━━━━━━━━━━━━━━━━━━━━━━━━━━\u001b[0m\u001b[38;5;172m━┓\u001b[0m\n",
       "\u001b[38;5;172m┃\u001b[0m                                                                                                                 \u001b[38;5;172m┃\u001b[0m\n",
       "\u001b[38;5;172m┃\u001b[0m Here are 12 articles discussing AI trends in 2024:                                                              \u001b[38;5;172m┃\u001b[0m\n",
       "\u001b[38;5;172m┃\u001b[0m                                                                                                                 \u001b[38;5;172m┃\u001b[0m\n",
       "\u001b[38;5;172m┃\u001b[0m \u001b[1;33m  1 \u001b[0m\u001b[1mIDC's 2024 AI opportunity study: Top five AI trends to watch\u001b[0m — \u001b]8;id=18285;https://blogs.microsoft.com/blog/2024/11/12/idcs-2024-ai-opportunity-study-top-five-ai-trends-to-watch/\u001b\\\u001b[4;34mMicrosoft Blog\u001b[0m\u001b]8;;\u001b\\: Summary of IDC findings on   \u001b[38;5;172m┃\u001b[0m\n",
       "\u001b[38;5;172m┃\u001b[0m \u001b[1;33m    \u001b[0mgenerative AI, productivity, custom solutions, ROI for 2024.                                                \u001b[38;5;172m┃\u001b[0m\n",
       "\u001b[38;5;172m┃\u001b[0m \u001b[1;33m  2 \u001b[0m\u001b[1mTop 10: AI Trends in 2024\u001b[0m — \u001b]8;id=192017;https://aimagazine.com/top10/top-10-ai-trends-in-2024\u001b\\\u001b[4;34mAI Magazine\u001b[0m\u001b]8;;\u001b\\: Roundup of the biggest AI trends of 2024, including ethics,        \u001b[38;5;172m┃\u001b[0m\n",
       "\u001b[38;5;172m┃\u001b[0m \u001b[1;33m    \u001b[0maccessibility, and regulation.                                                                              \u001b[38;5;172m┃\u001b[0m\n",
       "\u001b[38;5;172m┃\u001b[0m \u001b[1;33m  3 \u001b[0m\u001b[1m2024 Global Trends in AI\u001b[0m — \u001b]8;id=715004;https://www.weka.io/resources/analyst-report/2024-global-trends-in-ai/\u001b\\\u001b[4;34mWEKA (analyst report / landing page)\u001b[0m\u001b]8;;\u001b\\: Survey-based report on generative AI,      \u001b[38;5;172m┃\u001b[0m\n",
       "\u001b[38;5;172m┃\u001b[0m \u001b[1;33m    \u001b[0mscaling challenges, GPU demand, sustainability.                                                             \u001b[38;5;172m┃\u001b[0m\n",
       "\u001b[38;5;172m┃\u001b[0m \u001b[1;33m  4 \u001b[0m\u001b[1m2024 Global AI Trends Report (PDF)\u001b[0m — \u001b]8;id=196021;https://trendsunplugged.io/wp-content/uploads/2024/11/2024-Global-AI-Trends-Report.pdf\u001b\\\u001b[4;34mTrendsUnplugged / WEKA report PDF\u001b[0m\u001b]8;;\u001b\\: Full downloadable report on 2024 AI \u001b[38;5;172m┃\u001b[0m\n",
       "\u001b[38;5;172m┃\u001b[0m \u001b[1;33m    \u001b[0mtrends and practitioner survey results.                                                                     \u001b[38;5;172m┃\u001b[0m\n",
       "\u001b[38;5;172m┃\u001b[0m \u001b[1;33m  5 \u001b[0m\u001b[1mWhat's next for AI in 2024\u001b[0m — \u001b]8;id=922202;https://www.technologyreview.com/2024/01/04/1086046/whats-next-for-ai-in-2024/\u001b\\\u001b[4;34mMIT Technology Review\u001b[0m\u001b]8;;\u001b\\: Predictions for 2024, including custom chatbots,        \u001b[38;5;172m┃\u001b[0m\n",
       "\u001b[38;5;172m┃\u001b[0m \u001b[1;33m    \u001b[0mgenerative video, and disinformation risks.                                                                 \u001b[38;5;172m┃\u001b[0m\n",
       "\u001b[38;5;172m┃\u001b[0m \u001b[1;33m  6 \u001b[0m\u001b[1m15 AI Trends of 2024\u001b[0m — \u001b]8;id=106707;https://finance.yahoo.com/news/15-ai-trends-2024-225207945.html\u001b\\\u001b[4;34mYahoo Finance\u001b[0m\u001b]8;;\u001b\\: Overview article listing 15 notable AI developments and trends from   \u001b[38;5;172m┃\u001b[0m\n",
       "\u001b[38;5;172m┃\u001b[0m \u001b[1;33m    \u001b[0m2024.                                                                                                       \u001b[38;5;172m┃\u001b[0m\n",
       "\u001b[38;5;172m┃\u001b[0m \u001b[1;33m  7 \u001b[0m\u001b[1mMicrosoft & IDC Study: Top AI Trends to Watch in 2024\u001b[0m — \u001b]8;id=246886;https://technologymagazine.com/articles/microsoft-idc-study-top-ai-trends-to-watch-in-2024\u001b\\\u001b[4;34mTechnology Magazine\u001b[0m\u001b]8;;\u001b\\: Coverage of the Microsoft–IDC  \u001b[38;5;172m┃\u001b[0m\n",
       "\u001b[38;5;172m┃\u001b[0m \u001b[1;33m    \u001b[0mstudy highlighting GenAI and enterprise adoption trends.                                                    \u001b[38;5;172m┃\u001b[0m\n",
       "\u001b[38;5;172m┃\u001b[0m \u001b[1;33m  8 \u001b[0m\u001b[1m2024 Predictions in AI and Natural Language Processing (NLP)\u001b[0m — \u001b]8;id=278589;https://www.dataversity.net/articles/2024-predictions-in-ai-and-natural-language-processing-nlp/\u001b\\\u001b[4;34mDATAVERSITY\u001b[0m\u001b]8;;\u001b\\: NLP-focused predictions and     \u001b[38;5;172m┃\u001b[0m\n",
       "\u001b[38;5;172m┃\u001b[0m \u001b[1;33m    \u001b[0mpractical impacts expected in 2024.                                                                         \u001b[38;5;172m┃\u001b[0m\n",
       "\u001b[38;5;172m┃\u001b[0m \u001b[1;33m  9 \u001b[0m\u001b[1mAI Trends 2024\u001b[0m — \u001b]8;id=89997;https://www.generational.pub/p/ai-trends-2024\u001b\\\u001b[4;34mby Kenn So (Generational)\u001b[0m\u001b]8;;\u001b\\: Independent 80+ page report summary with data and conference    \u001b[38;5;172m┃\u001b[0m\n",
       "\u001b[38;5;172m┃\u001b[0m \u001b[1;33m    \u001b[0mtakeaways for 2024.                                                                                         \u001b[38;5;172m┃\u001b[0m\n",
       "\u001b[38;5;172m┃\u001b[0m \u001b[1;33m 10 \u001b[0m\u001b[1mThe Top Artificial Intelligence Trends\u001b[0m — \u001b]8;id=55336;https://www.ibm.com/think/insights/artificial-intelligence-trends\u001b\\\u001b[4;34mIBM (Think / Insights)\u001b[0m\u001b]8;;\u001b\\: IBM’s perspective on emerging AI trends    \u001b[38;5;172m┃\u001b[0m\n",
       "\u001b[38;5;172m┃\u001b[0m \u001b[1;33m    \u001b[0mand responsible scaling—useful for 2024 context.                                                            \u001b[38;5;172m┃\u001b[0m\n",
       "\u001b[38;5;172m┃\u001b[0m \u001b[1;33m 11 \u001b[0m\u001b[1mTop 10 AI Trends in 2024\u001b[0m — \u001b]8;id=282973;https://aimagazine.com/top10/top-10-ai-trends-in-2024\u001b\\\u001b[4;34mAI Magazine (duplicate)\u001b[0m\u001b]8;;\u001b\\: Comprehensive trend list worth reading.                 \u001b[38;5;172m┃\u001b[0m\n",
       "\u001b[38;5;172m┃\u001b[0m \u001b[1;33m 12 \u001b[0m\u001b[1m2024 Predictions in AI (various expert takes aggregated)\u001b[0m — \u001b]8;id=82120;https://www.forbes.com/search/?q=AI%20trends%202024\u001b\\\u001b[4;34mForbes / related coverage\u001b[0m\u001b]8;;\u001b\\: Forbes coverage and   \u001b[38;5;172m┃\u001b[0m\n",
       "\u001b[38;5;172m┃\u001b[0m \u001b[1;33m    \u001b[0mexpert commentary on AI trends and industry impacts in 2024.                                                \u001b[38;5;172m┃\u001b[0m\n",
       "\u001b[38;5;172m┃\u001b[0m                                                                                                                 \u001b[38;5;172m┃\u001b[0m\n",
       "\u001b[38;5;172m┃\u001b[0m Regarding the Hackernews stories, could you clarify whether you are looking for top stories from 2024 about AI  \u001b[38;5;172m┃\u001b[0m\n",
       "\u001b[38;5;172m┃\u001b[0m trends or current top stories that discuss AI trends, regardless of the publication date? And how many stories  \u001b[38;5;172m┃\u001b[0m\n",
       "\u001b[38;5;172m┃\u001b[0m would you like (e.g., top 10)?                                                                                  \u001b[38;5;172m┃\u001b[0m\n",
       "\u001b[38;5;172m┃\u001b[0m                                                                                                                 \u001b[38;5;172m┃\u001b[0m\n",
       "\u001b[38;5;172m┗━━━━━━━━━━━━━━━━━━━━━━━━━━━━━━━━━━━━━━━━━━━━━━━━━━━━━━━━━━━━━━━━━━━━━━━━━━━━━━━━━━━━━━━━━━━━━━━━━━━━━━━━━━━━━━━━━┛\u001b[0m\n"
      ]
     },
     "metadata": {},
     "output_type": "display_data"
    },
    {
     "data": {
      "text/html": [
       "<pre style=\"white-space:pre;overflow-x:auto;line-height:normal;font-family:Menlo,'DejaVu Sans Mono',consolas,'Courier New',monospace\"><span style=\"color: #d78700; text-decoration-color: #d78700\">┏━ Step 3: prepare_input_for_writer (Completed) ━━━━━━━━━━━━━━━━━━━━━━━━━━━━━━━━━━━━━━━━━━━━━━━━━━━━━━━━━━━━━━━━━━┓</span>\n",
       "<span style=\"color: #d78700; text-decoration-color: #d78700\">┃</span>                                                                                                                 <span style=\"color: #d78700; text-decoration-color: #d78700\">┃</span>\n",
       "<span style=\"color: #d78700; text-decoration-color: #d78700\">┃</span> <span style=\"background-color: #272822\">                                                                                                               </span> <span style=\"color: #d78700; text-decoration-color: #d78700\">┃</span>\n",
       "<span style=\"color: #d78700; text-decoration-color: #d78700\">┃</span> <span style=\"background-color: #272822\"> </span><span style=\"color: #f8f8f2; text-decoration-color: #f8f8f2; background-color: #272822\">I'm writing a blog post on the topic:</span><span style=\"background-color: #272822\">                                                                         </span> <span style=\"color: #d78700; text-decoration-color: #d78700\">┃</span>\n",
       "<span style=\"color: #d78700; text-decoration-color: #d78700\">┃</span> <span style=\"background-color: #272822\"> </span><span style=\"color: #f8f8f2; text-decoration-color: #f8f8f2; background-color: #272822\">&lt;topic&gt;</span><span style=\"background-color: #272822\">                                                                                                       </span> <span style=\"color: #d78700; text-decoration-color: #d78700\">┃</span>\n",
       "<span style=\"color: #d78700; text-decoration-color: #d78700\">┃</span> <span style=\"background-color: #272822\"> </span><span style=\"color: #f8f8f2; text-decoration-color: #f8f8f2; background-color: #272822\">AI trends in 2024</span><span style=\"background-color: #272822\">                                                                                             </span> <span style=\"color: #d78700; text-decoration-color: #d78700\">┃</span>\n",
       "<span style=\"color: #d78700; text-decoration-color: #d78700\">┃</span> <span style=\"background-color: #272822\"> </span><span style=\"color: #f8f8f2; text-decoration-color: #f8f8f2; background-color: #272822\">&lt;/topic&gt;</span><span style=\"background-color: #272822\">                                                                                                      </span> <span style=\"color: #d78700; text-decoration-color: #d78700\">┃</span>\n",
       "<span style=\"color: #d78700; text-decoration-color: #d78700\">┃</span> <span style=\"background-color: #272822\">                                                                                                               </span> <span style=\"color: #d78700; text-decoration-color: #d78700\">┃</span>\n",
       "<span style=\"color: #d78700; text-decoration-color: #d78700\">┃</span> <span style=\"background-color: #272822\"> </span><span style=\"color: #f8f8f2; text-decoration-color: #f8f8f2; background-color: #272822\">Here is information from the web:</span><span style=\"background-color: #272822\">                                                                             </span> <span style=\"color: #d78700; text-decoration-color: #d78700\">┃</span>\n",
       "<span style=\"color: #d78700; text-decoration-color: #d78700\">┃</span> <span style=\"background-color: #272822\"> </span><span style=\"color: #f8f8f2; text-decoration-color: #f8f8f2; background-color: #272822\">&lt;research_results&gt;</span><span style=\"background-color: #272822\">                                                                                            </span> <span style=\"color: #d78700; text-decoration-color: #d78700\">┃</span>\n",
       "<span style=\"color: #d78700; text-decoration-color: #d78700\">┃</span> <span style=\"background-color: #272822\"> </span><span style=\"color: #f8f8f2; text-decoration-color: #f8f8f2; background-color: #272822\">Here are 12 articles discussing AI trends in 2024:</span><span style=\"background-color: #272822\">                                                            </span> <span style=\"color: #d78700; text-decoration-color: #d78700\">┃</span>\n",
       "<span style=\"color: #d78700; text-decoration-color: #d78700\">┃</span> <span style=\"background-color: #272822\">                                                                                                               </span> <span style=\"color: #d78700; text-decoration-color: #d78700\">┃</span>\n",
       "<span style=\"color: #d78700; text-decoration-color: #d78700\">┃</span>                                                                                                                 <span style=\"color: #d78700; text-decoration-color: #d78700\">┃</span>\n",
       "<span style=\"color: #d78700; text-decoration-color: #d78700\">┃</span> <span style=\"color: #808000; text-decoration-color: #808000; font-weight: bold\">  1 </span><span style=\"font-weight: bold\">IDC's 2024 AI opportunity study: Top five AI trends to watch</span> — <a href=\"https://blogs.microsoft.com/blog/2024/11/12/idcs-2024-ai-opportunity-study-top-five-ai-trends-to-watch/\" target=\"_blank\"><span style=\"color: #000080; text-decoration-color: #000080; text-decoration: underline\">Microsoft Blog</span></a>: Summary of IDC findings on   <span style=\"color: #d78700; text-decoration-color: #d78700\">┃</span>\n",
       "<span style=\"color: #d78700; text-decoration-color: #d78700\">┃</span> <span style=\"color: #808000; text-decoration-color: #808000; font-weight: bold\">    </span>generative AI, productivity, custom solutions, ROI for 2024.                                                <span style=\"color: #d78700; text-decoration-color: #d78700\">┃</span>\n",
       "<span style=\"color: #d78700; text-decoration-color: #d78700\">┃</span> <span style=\"color: #808000; text-decoration-color: #808000; font-weight: bold\">  2 </span><span style=\"font-weight: bold\">Top 10: AI Trends in 2024</span> — <a href=\"https://aimagazine.com/top10/top-10-ai-trends-in-2024\" target=\"_blank\"><span style=\"color: #000080; text-decoration-color: #000080; text-decoration: underline\">AI Magazine</span></a>: Roundup of the biggest AI trends of 2024, including ethics,        <span style=\"color: #d78700; text-decoration-color: #d78700\">┃</span>\n",
       "<span style=\"color: #d78700; text-decoration-color: #d78700\">┃</span> <span style=\"color: #808000; text-decoration-color: #808000; font-weight: bold\">    </span>accessibility, and regulation.                                                                              <span style=\"color: #d78700; text-decoration-color: #d78700\">┃</span>\n",
       "<span style=\"color: #d78700; text-decoration-color: #d78700\">┃</span> <span style=\"color: #808000; text-decoration-color: #808000; font-weight: bold\">  3 </span><span style=\"font-weight: bold\">2024 Global Trends in AI</span> — <a href=\"https://www.weka.io/resources/analyst-report/2024-global-trends-in-ai/\" target=\"_blank\"><span style=\"color: #000080; text-decoration-color: #000080; text-decoration: underline\">WEKA (analyst report / landing page)</span></a>: Survey-based report on generative AI,      <span style=\"color: #d78700; text-decoration-color: #d78700\">┃</span>\n",
       "<span style=\"color: #d78700; text-decoration-color: #d78700\">┃</span> <span style=\"color: #808000; text-decoration-color: #808000; font-weight: bold\">    </span>scaling challenges, GPU demand, sustainability.                                                             <span style=\"color: #d78700; text-decoration-color: #d78700\">┃</span>\n",
       "<span style=\"color: #d78700; text-decoration-color: #d78700\">┃</span> <span style=\"color: #808000; text-decoration-color: #808000; font-weight: bold\">  4 </span><span style=\"font-weight: bold\">2024 Global AI Trends Report (PDF)</span> — <a href=\"https://trendsunplugged.io/wp-content/uploads/2024/11/2024-Global-AI-Trends-Report.pdf\" target=\"_blank\"><span style=\"color: #000080; text-decoration-color: #000080; text-decoration: underline\">TrendsUnplugged / WEKA report PDF</span></a>: Full downloadable report on 2024 AI <span style=\"color: #d78700; text-decoration-color: #d78700\">┃</span>\n",
       "<span style=\"color: #d78700; text-decoration-color: #d78700\">┃</span> <span style=\"color: #808000; text-decoration-color: #808000; font-weight: bold\">    </span>trends and practitioner survey results.                                                                     <span style=\"color: #d78700; text-decoration-color: #d78700\">┃</span>\n",
       "<span style=\"color: #d78700; text-decoration-color: #d78700\">┃</span> <span style=\"color: #808000; text-decoration-color: #808000; font-weight: bold\">  5 </span><span style=\"font-weight: bold\">What's next for AI in 2024</span> — <a href=\"https://www.technologyreview.com/2024/01/04/1086046/whats-next-for-ai-in-2024/\" target=\"_blank\"><span style=\"color: #000080; text-decoration-color: #000080; text-decoration: underline\">MIT Technology Review</span></a>: Predictions for 2024, including custom chatbots,        <span style=\"color: #d78700; text-decoration-color: #d78700\">┃</span>\n",
       "<span style=\"color: #d78700; text-decoration-color: #d78700\">┃</span> <span style=\"color: #808000; text-decoration-color: #808000; font-weight: bold\">    </span>generative video, and disinformation risks.                                                                 <span style=\"color: #d78700; text-decoration-color: #d78700\">┃</span>\n",
       "<span style=\"color: #d78700; text-decoration-color: #d78700\">┃</span> <span style=\"color: #808000; text-decoration-color: #808000; font-weight: bold\">  6 </span><span style=\"font-weight: bold\">15 AI Trends of 2024</span> — <a href=\"https://finance.yahoo.com/news/15-ai-trends-2024-225207945.html\" target=\"_blank\"><span style=\"color: #000080; text-decoration-color: #000080; text-decoration: underline\">Yahoo Finance</span></a>: Overview article listing 15 notable AI developments and trends from   <span style=\"color: #d78700; text-decoration-color: #d78700\">┃</span>\n",
       "<span style=\"color: #d78700; text-decoration-color: #d78700\">┃</span> <span style=\"color: #808000; text-decoration-color: #808000; font-weight: bold\">    </span>2024.                                                                                                       <span style=\"color: #d78700; text-decoration-color: #d78700\">┃</span>\n",
       "<span style=\"color: #d78700; text-decoration-color: #d78700\">┃</span> <span style=\"color: #808000; text-decoration-color: #808000; font-weight: bold\">  7 </span><span style=\"font-weight: bold\">Microsoft &amp; IDC Study: Top AI Trends to Watch in 2024</span> — <a href=\"https://technologymagazine.com/articles/microsoft-idc-study-top-ai-trends-to-watch-in-2024\" target=\"_blank\"><span style=\"color: #000080; text-decoration-color: #000080; text-decoration: underline\">Technology Magazine</span></a>: Coverage of the Microsoft–IDC  <span style=\"color: #d78700; text-decoration-color: #d78700\">┃</span>\n",
       "<span style=\"color: #d78700; text-decoration-color: #d78700\">┃</span> <span style=\"color: #808000; text-decoration-color: #808000; font-weight: bold\">    </span>study highlighting GenAI and enterprise adoption trends.                                                    <span style=\"color: #d78700; text-decoration-color: #d78700\">┃</span>\n",
       "<span style=\"color: #d78700; text-decoration-color: #d78700\">┃</span> <span style=\"color: #808000; text-decoration-color: #808000; font-weight: bold\">  8 </span><span style=\"font-weight: bold\">2024 Predictions in AI and Natural Language Processing (NLP)</span> — <a href=\"https://www.dataversity.net/articles/2024-predictions-in-ai-and-natural-language-processing-nlp/\" target=\"_blank\"><span style=\"color: #000080; text-decoration-color: #000080; text-decoration: underline\">DATAVERSITY</span></a>: NLP-focused predictions and     <span style=\"color: #d78700; text-decoration-color: #d78700\">┃</span>\n",
       "<span style=\"color: #d78700; text-decoration-color: #d78700\">┃</span> <span style=\"color: #808000; text-decoration-color: #808000; font-weight: bold\">    </span>practical impacts expected in 2024.                                                                         <span style=\"color: #d78700; text-decoration-color: #d78700\">┃</span>\n",
       "<span style=\"color: #d78700; text-decoration-color: #d78700\">┃</span> <span style=\"color: #808000; text-decoration-color: #808000; font-weight: bold\">  9 </span><span style=\"font-weight: bold\">AI Trends 2024</span> — <a href=\"https://www.generational.pub/p/ai-trends-2024\" target=\"_blank\"><span style=\"color: #000080; text-decoration-color: #000080; text-decoration: underline\">by Kenn So (Generational)</span></a>: Independent 80+ page report summary with data and conference    <span style=\"color: #d78700; text-decoration-color: #d78700\">┃</span>\n",
       "<span style=\"color: #d78700; text-decoration-color: #d78700\">┃</span> <span style=\"color: #808000; text-decoration-color: #808000; font-weight: bold\">    </span>takeaways for 2024.                                                                                         <span style=\"color: #d78700; text-decoration-color: #d78700\">┃</span>\n",
       "<span style=\"color: #d78700; text-decoration-color: #d78700\">┃</span> <span style=\"color: #808000; text-decoration-color: #808000; font-weight: bold\"> 10 </span><span style=\"font-weight: bold\">The Top Artificial Intelligence Trends</span> — <a href=\"https://www.ibm.com/think/insights/artificial-intelligence-trends\" target=\"_blank\"><span style=\"color: #000080; text-decoration-color: #000080; text-decoration: underline\">IBM (Think / Insights)</span></a>: IBM’s perspective on emerging AI trends    <span style=\"color: #d78700; text-decoration-color: #d78700\">┃</span>\n",
       "<span style=\"color: #d78700; text-decoration-color: #d78700\">┃</span> <span style=\"color: #808000; text-decoration-color: #808000; font-weight: bold\">    </span>and responsible scaling—useful for 2024 context.                                                            <span style=\"color: #d78700; text-decoration-color: #d78700\">┃</span>\n",
       "<span style=\"color: #d78700; text-decoration-color: #d78700\">┃</span> <span style=\"color: #808000; text-decoration-color: #808000; font-weight: bold\"> 11 </span><span style=\"font-weight: bold\">Top 10 AI Trends in 2024</span> — <a href=\"https://aimagazine.com/top10/top-10-ai-trends-in-2024\" target=\"_blank\"><span style=\"color: #000080; text-decoration-color: #000080; text-decoration: underline\">AI Magazine (duplicate)</span></a>: Comprehensive trend list worth reading.                 <span style=\"color: #d78700; text-decoration-color: #d78700\">┃</span>\n",
       "<span style=\"color: #d78700; text-decoration-color: #d78700\">┃</span> <span style=\"color: #808000; text-decoration-color: #808000; font-weight: bold\"> 12 </span><span style=\"font-weight: bold\">2024 Predictions in AI (various expert takes aggregated)</span> — <a href=\"https://www.forbes.com/search/?q=AI%20trends%202024\" target=\"_blank\"><span style=\"color: #000080; text-decoration-color: #000080; text-decoration: underline\">Forbes / related coverage</span></a>: Forbes coverage and   <span style=\"color: #d78700; text-decoration-color: #d78700\">┃</span>\n",
       "<span style=\"color: #d78700; text-decoration-color: #d78700\">┃</span> <span style=\"color: #808000; text-decoration-color: #808000; font-weight: bold\">    </span>expert commentary on AI trends and industry impacts in 2024.                                                <span style=\"color: #d78700; text-decoration-color: #d78700\">┃</span>\n",
       "<span style=\"color: #d78700; text-decoration-color: #d78700\">┃</span>                                                                                                                 <span style=\"color: #d78700; text-decoration-color: #d78700\">┃</span>\n",
       "<span style=\"color: #d78700; text-decoration-color: #d78700\">┃</span> Regarding the Hackernews stories, could you clarify whether you are looking for top stories from 2024 about AI  <span style=\"color: #d78700; text-decoration-color: #d78700\">┃</span>\n",
       "<span style=\"color: #d78700; text-decoration-color: #d78700\">┃</span> trends or current top stories that discuss AI trends, regardless of the publication date? And how many stories  <span style=\"color: #d78700; text-decoration-color: #d78700\">┃</span>\n",
       "<span style=\"color: #d78700; text-decoration-color: #d78700\">┃</span> would you like (e.g., top 10)? &lt;research_results&gt;                                                               <span style=\"color: #d78700; text-decoration-color: #d78700\">┃</span>\n",
       "<span style=\"color: #d78700; text-decoration-color: #d78700\">┃</span>                                                                                                                 <span style=\"color: #d78700; text-decoration-color: #d78700\">┃</span>\n",
       "<span style=\"color: #d78700; text-decoration-color: #d78700\">┗━━━━━━━━━━━━━━━━━━━━━━━━━━━━━━━━━━━━━━━━━━━━━━━━━━━━━━━━━━━━━━━━━━━━━━━━━━━━━━━━━━━━━━━━━━━━━━━━━━━━━━━━━━━━━━━━━┛</span>\n",
       "</pre>\n"
      ],
      "text/plain": [
       "\u001b[38;5;172m┏━\u001b[0m\u001b[38;5;172m Step 3: prepare_input_for_writer (Completed) \u001b[0m\u001b[38;5;172m━━━━━━━━━━━━━━━━━━━━━━━━━━━━━━━━━━━━━━━━━━━━━━━━━━━━━━━━━━━━━━━━━\u001b[0m\u001b[38;5;172m━┓\u001b[0m\n",
       "\u001b[38;5;172m┃\u001b[0m                                                                                                                 \u001b[38;5;172m┃\u001b[0m\n",
       "\u001b[38;5;172m┃\u001b[0m \u001b[48;2;39;40;34m                                                                                                               \u001b[0m \u001b[38;5;172m┃\u001b[0m\n",
       "\u001b[38;5;172m┃\u001b[0m \u001b[48;2;39;40;34m \u001b[0m\u001b[38;2;248;248;242;48;2;39;40;34mI'm writing a blog post on the topic:\u001b[0m\u001b[48;2;39;40;34m                                                                        \u001b[0m\u001b[48;2;39;40;34m \u001b[0m \u001b[38;5;172m┃\u001b[0m\n",
       "\u001b[38;5;172m┃\u001b[0m \u001b[48;2;39;40;34m \u001b[0m\u001b[38;2;248;248;242;48;2;39;40;34m<topic>\u001b[0m\u001b[48;2;39;40;34m                                                                                                      \u001b[0m\u001b[48;2;39;40;34m \u001b[0m \u001b[38;5;172m┃\u001b[0m\n",
       "\u001b[38;5;172m┃\u001b[0m \u001b[48;2;39;40;34m \u001b[0m\u001b[38;2;248;248;242;48;2;39;40;34mAI trends in 2024\u001b[0m\u001b[48;2;39;40;34m                                                                                            \u001b[0m\u001b[48;2;39;40;34m \u001b[0m \u001b[38;5;172m┃\u001b[0m\n",
       "\u001b[38;5;172m┃\u001b[0m \u001b[48;2;39;40;34m \u001b[0m\u001b[38;2;248;248;242;48;2;39;40;34m</topic>\u001b[0m\u001b[48;2;39;40;34m                                                                                                     \u001b[0m\u001b[48;2;39;40;34m \u001b[0m \u001b[38;5;172m┃\u001b[0m\n",
       "\u001b[38;5;172m┃\u001b[0m \u001b[48;2;39;40;34m \u001b[0m\u001b[48;2;39;40;34m                                                                                                             \u001b[0m\u001b[48;2;39;40;34m \u001b[0m \u001b[38;5;172m┃\u001b[0m\n",
       "\u001b[38;5;172m┃\u001b[0m \u001b[48;2;39;40;34m \u001b[0m\u001b[38;2;248;248;242;48;2;39;40;34mHere is information from the web:\u001b[0m\u001b[48;2;39;40;34m                                                                            \u001b[0m\u001b[48;2;39;40;34m \u001b[0m \u001b[38;5;172m┃\u001b[0m\n",
       "\u001b[38;5;172m┃\u001b[0m \u001b[48;2;39;40;34m \u001b[0m\u001b[38;2;248;248;242;48;2;39;40;34m<research_results>\u001b[0m\u001b[48;2;39;40;34m                                                                                           \u001b[0m\u001b[48;2;39;40;34m \u001b[0m \u001b[38;5;172m┃\u001b[0m\n",
       "\u001b[38;5;172m┃\u001b[0m \u001b[48;2;39;40;34m \u001b[0m\u001b[38;2;248;248;242;48;2;39;40;34mHere are 12 articles discussing AI trends in 2024:\u001b[0m\u001b[48;2;39;40;34m                                                           \u001b[0m\u001b[48;2;39;40;34m \u001b[0m \u001b[38;5;172m┃\u001b[0m\n",
       "\u001b[38;5;172m┃\u001b[0m \u001b[48;2;39;40;34m                                                                                                               \u001b[0m \u001b[38;5;172m┃\u001b[0m\n",
       "\u001b[38;5;172m┃\u001b[0m                                                                                                                 \u001b[38;5;172m┃\u001b[0m\n",
       "\u001b[38;5;172m┃\u001b[0m \u001b[1;33m  1 \u001b[0m\u001b[1mIDC's 2024 AI opportunity study: Top five AI trends to watch\u001b[0m — \u001b]8;id=1467;https://blogs.microsoft.com/blog/2024/11/12/idcs-2024-ai-opportunity-study-top-five-ai-trends-to-watch/\u001b\\\u001b[4;34mMicrosoft Blog\u001b[0m\u001b]8;;\u001b\\: Summary of IDC findings on   \u001b[38;5;172m┃\u001b[0m\n",
       "\u001b[38;5;172m┃\u001b[0m \u001b[1;33m    \u001b[0mgenerative AI, productivity, custom solutions, ROI for 2024.                                                \u001b[38;5;172m┃\u001b[0m\n",
       "\u001b[38;5;172m┃\u001b[0m \u001b[1;33m  2 \u001b[0m\u001b[1mTop 10: AI Trends in 2024\u001b[0m — \u001b]8;id=266967;https://aimagazine.com/top10/top-10-ai-trends-in-2024\u001b\\\u001b[4;34mAI Magazine\u001b[0m\u001b]8;;\u001b\\: Roundup of the biggest AI trends of 2024, including ethics,        \u001b[38;5;172m┃\u001b[0m\n",
       "\u001b[38;5;172m┃\u001b[0m \u001b[1;33m    \u001b[0maccessibility, and regulation.                                                                              \u001b[38;5;172m┃\u001b[0m\n",
       "\u001b[38;5;172m┃\u001b[0m \u001b[1;33m  3 \u001b[0m\u001b[1m2024 Global Trends in AI\u001b[0m — \u001b]8;id=223008;https://www.weka.io/resources/analyst-report/2024-global-trends-in-ai/\u001b\\\u001b[4;34mWEKA (analyst report / landing page)\u001b[0m\u001b]8;;\u001b\\: Survey-based report on generative AI,      \u001b[38;5;172m┃\u001b[0m\n",
       "\u001b[38;5;172m┃\u001b[0m \u001b[1;33m    \u001b[0mscaling challenges, GPU demand, sustainability.                                                             \u001b[38;5;172m┃\u001b[0m\n",
       "\u001b[38;5;172m┃\u001b[0m \u001b[1;33m  4 \u001b[0m\u001b[1m2024 Global AI Trends Report (PDF)\u001b[0m — \u001b]8;id=928329;https://trendsunplugged.io/wp-content/uploads/2024/11/2024-Global-AI-Trends-Report.pdf\u001b\\\u001b[4;34mTrendsUnplugged / WEKA report PDF\u001b[0m\u001b]8;;\u001b\\: Full downloadable report on 2024 AI \u001b[38;5;172m┃\u001b[0m\n",
       "\u001b[38;5;172m┃\u001b[0m \u001b[1;33m    \u001b[0mtrends and practitioner survey results.                                                                     \u001b[38;5;172m┃\u001b[0m\n",
       "\u001b[38;5;172m┃\u001b[0m \u001b[1;33m  5 \u001b[0m\u001b[1mWhat's next for AI in 2024\u001b[0m — \u001b]8;id=84217;https://www.technologyreview.com/2024/01/04/1086046/whats-next-for-ai-in-2024/\u001b\\\u001b[4;34mMIT Technology Review\u001b[0m\u001b]8;;\u001b\\: Predictions for 2024, including custom chatbots,        \u001b[38;5;172m┃\u001b[0m\n",
       "\u001b[38;5;172m┃\u001b[0m \u001b[1;33m    \u001b[0mgenerative video, and disinformation risks.                                                                 \u001b[38;5;172m┃\u001b[0m\n",
       "\u001b[38;5;172m┃\u001b[0m \u001b[1;33m  6 \u001b[0m\u001b[1m15 AI Trends of 2024\u001b[0m — \u001b]8;id=308641;https://finance.yahoo.com/news/15-ai-trends-2024-225207945.html\u001b\\\u001b[4;34mYahoo Finance\u001b[0m\u001b]8;;\u001b\\: Overview article listing 15 notable AI developments and trends from   \u001b[38;5;172m┃\u001b[0m\n",
       "\u001b[38;5;172m┃\u001b[0m \u001b[1;33m    \u001b[0m2024.                                                                                                       \u001b[38;5;172m┃\u001b[0m\n",
       "\u001b[38;5;172m┃\u001b[0m \u001b[1;33m  7 \u001b[0m\u001b[1mMicrosoft & IDC Study: Top AI Trends to Watch in 2024\u001b[0m — \u001b]8;id=868054;https://technologymagazine.com/articles/microsoft-idc-study-top-ai-trends-to-watch-in-2024\u001b\\\u001b[4;34mTechnology Magazine\u001b[0m\u001b]8;;\u001b\\: Coverage of the Microsoft–IDC  \u001b[38;5;172m┃\u001b[0m\n",
       "\u001b[38;5;172m┃\u001b[0m \u001b[1;33m    \u001b[0mstudy highlighting GenAI and enterprise adoption trends.                                                    \u001b[38;5;172m┃\u001b[0m\n",
       "\u001b[38;5;172m┃\u001b[0m \u001b[1;33m  8 \u001b[0m\u001b[1m2024 Predictions in AI and Natural Language Processing (NLP)\u001b[0m — \u001b]8;id=398835;https://www.dataversity.net/articles/2024-predictions-in-ai-and-natural-language-processing-nlp/\u001b\\\u001b[4;34mDATAVERSITY\u001b[0m\u001b]8;;\u001b\\: NLP-focused predictions and     \u001b[38;5;172m┃\u001b[0m\n",
       "\u001b[38;5;172m┃\u001b[0m \u001b[1;33m    \u001b[0mpractical impacts expected in 2024.                                                                         \u001b[38;5;172m┃\u001b[0m\n",
       "\u001b[38;5;172m┃\u001b[0m \u001b[1;33m  9 \u001b[0m\u001b[1mAI Trends 2024\u001b[0m — \u001b]8;id=381579;https://www.generational.pub/p/ai-trends-2024\u001b\\\u001b[4;34mby Kenn So (Generational)\u001b[0m\u001b]8;;\u001b\\: Independent 80+ page report summary with data and conference    \u001b[38;5;172m┃\u001b[0m\n",
       "\u001b[38;5;172m┃\u001b[0m \u001b[1;33m    \u001b[0mtakeaways for 2024.                                                                                         \u001b[38;5;172m┃\u001b[0m\n",
       "\u001b[38;5;172m┃\u001b[0m \u001b[1;33m 10 \u001b[0m\u001b[1mThe Top Artificial Intelligence Trends\u001b[0m — \u001b]8;id=814341;https://www.ibm.com/think/insights/artificial-intelligence-trends\u001b\\\u001b[4;34mIBM (Think / Insights)\u001b[0m\u001b]8;;\u001b\\: IBM’s perspective on emerging AI trends    \u001b[38;5;172m┃\u001b[0m\n",
       "\u001b[38;5;172m┃\u001b[0m \u001b[1;33m    \u001b[0mand responsible scaling—useful for 2024 context.                                                            \u001b[38;5;172m┃\u001b[0m\n",
       "\u001b[38;5;172m┃\u001b[0m \u001b[1;33m 11 \u001b[0m\u001b[1mTop 10 AI Trends in 2024\u001b[0m — \u001b]8;id=267258;https://aimagazine.com/top10/top-10-ai-trends-in-2024\u001b\\\u001b[4;34mAI Magazine (duplicate)\u001b[0m\u001b]8;;\u001b\\: Comprehensive trend list worth reading.                 \u001b[38;5;172m┃\u001b[0m\n",
       "\u001b[38;5;172m┃\u001b[0m \u001b[1;33m 12 \u001b[0m\u001b[1m2024 Predictions in AI (various expert takes aggregated)\u001b[0m — \u001b]8;id=856122;https://www.forbes.com/search/?q=AI%20trends%202024\u001b\\\u001b[4;34mForbes / related coverage\u001b[0m\u001b]8;;\u001b\\: Forbes coverage and   \u001b[38;5;172m┃\u001b[0m\n",
       "\u001b[38;5;172m┃\u001b[0m \u001b[1;33m    \u001b[0mexpert commentary on AI trends and industry impacts in 2024.                                                \u001b[38;5;172m┃\u001b[0m\n",
       "\u001b[38;5;172m┃\u001b[0m                                                                                                                 \u001b[38;5;172m┃\u001b[0m\n",
       "\u001b[38;5;172m┃\u001b[0m Regarding the Hackernews stories, could you clarify whether you are looking for top stories from 2024 about AI  \u001b[38;5;172m┃\u001b[0m\n",
       "\u001b[38;5;172m┃\u001b[0m trends or current top stories that discuss AI trends, regardless of the publication date? And how many stories  \u001b[38;5;172m┃\u001b[0m\n",
       "\u001b[38;5;172m┃\u001b[0m would you like (e.g., top 10)? <research_results>                                                               \u001b[38;5;172m┃\u001b[0m\n",
       "\u001b[38;5;172m┃\u001b[0m                                                                                                                 \u001b[38;5;172m┃\u001b[0m\n",
       "\u001b[38;5;172m┗━━━━━━━━━━━━━━━━━━━━━━━━━━━━━━━━━━━━━━━━━━━━━━━━━━━━━━━━━━━━━━━━━━━━━━━━━━━━━━━━━━━━━━━━━━━━━━━━━━━━━━━━━━━━━━━━━┛\u001b[0m\n"
      ]
     },
     "metadata": {},
     "output_type": "display_data"
    },
    {
     "data": {
      "text/html": [
       "<pre style=\"white-space:pre;overflow-x:auto;line-height:normal;font-family:Menlo,'DejaVu Sans Mono',consolas,'Courier New',monospace\"><span style=\"color: #d78700; text-decoration-color: #d78700\">┏━ Step 4: Writer Agent (Completed) ━━━━━━━━━━━━━━━━━━━━━━━━━━━━━━━━━━━━━━━━━━━━━━━━━━━━━━━━━━━━━━━━━━━━━━━━━━━━━━┓</span>\n",
       "<span style=\"color: #d78700; text-decoration-color: #d78700\">┃</span>                                                                                                                 <span style=\"color: #d78700; text-decoration-color: #d78700\">┃</span>\n",
       "<span style=\"color: #d78700; text-decoration-color: #d78700\">┃</span> Thanks — a quick clarification will help me fetch the right Hacker News material and shape the post.            <span style=\"color: #d78700; text-decoration-color: #d78700\">┃</span>\n",
       "<span style=\"color: #d78700; text-decoration-color: #d78700\">┃</span>                                                                                                                 <span style=\"color: #d78700; text-decoration-color: #d78700\">┃</span>\n",
       "<span style=\"color: #d78700; text-decoration-color: #d78700\">┃</span> A few questions / options:                                                                                      <span style=\"color: #d78700; text-decoration-color: #d78700\">┃</span>\n",
       "<span style=\"color: #d78700; text-decoration-color: #d78700\">┃</span>                                                                                                                 <span style=\"color: #d78700; text-decoration-color: #d78700\">┃</span>\n",
       "<span style=\"color: #d78700; text-decoration-color: #d78700\">┃</span> <span style=\"color: #808000; text-decoration-color: #808000; font-weight: bold\"> 1 </span>Hacker News timeframe                                                                                        <span style=\"color: #d78700; text-decoration-color: #d78700\">┃</span>\n",
       "<span style=\"color: #d78700; text-decoration-color: #d78700\">┃</span>                                                                                                                 <span style=\"color: #d78700; text-decoration-color: #d78700\">┃</span>\n",
       "<span style=\"color: #d78700; text-decoration-color: #d78700\">┃</span> <span style=\"color: #808000; text-decoration-color: #808000; font-weight: bold\"> • </span>Do you want “top HN stories from 2024 that are about AI trends” (recommended if you want a time‑bounded,     <span style=\"color: #d78700; text-decoration-color: #d78700\">┃</span>\n",
       "<span style=\"color: #d78700; text-decoration-color: #d78700\">┃</span> <span style=\"color: #808000; text-decoration-color: #808000; font-weight: bold\">   </span>year‑focused post), or                                                                                       <span style=\"color: #d78700; text-decoration-color: #d78700\">┃</span>\n",
       "<span style=\"color: #d78700; text-decoration-color: #d78700\">┃</span> <span style=\"color: #808000; text-decoration-color: #808000; font-weight: bold\"> • </span>“current top HN stories that discuss AI trends, regardless of their publication date” (recommended if you    <span style=\"color: #d78700; text-decoration-color: #d78700\">┃</span>\n",
       "<span style=\"color: #d78700; text-decoration-color: #d78700\">┃</span> <span style=\"color: #808000; text-decoration-color: #808000; font-weight: bold\">   </span>want the freshest ongoing discussion)?                                                                       <span style=\"color: #d78700; text-decoration-color: #d78700\">┃</span>\n",
       "<span style=\"color: #d78700; text-decoration-color: #d78700\">┃</span>                                                                                                                 <span style=\"color: #d78700; text-decoration-color: #d78700\">┃</span>\n",
       "<span style=\"color: #d78700; text-decoration-color: #d78700\">┃</span> <span style=\"color: #808000; text-decoration-color: #808000; font-weight: bold\"> 2 </span>How many HN stories should I include?                                                                        <span style=\"color: #d78700; text-decoration-color: #d78700\">┃</span>\n",
       "<span style=\"color: #d78700; text-decoration-color: #d78700\">┃</span>                                                                                                                 <span style=\"color: #d78700; text-decoration-color: #d78700\">┃</span>\n",
       "<span style=\"color: #d78700; text-decoration-color: #d78700\">┃</span> <span style=\"color: #808000; text-decoration-color: #808000; font-weight: bold\"> • </span>Common choices: top 5, top 10 (recommended), or top 20. I suggest top 10 for a blog post — enough breadth    <span style=\"color: #d78700; text-decoration-color: #d78700\">┃</span>\n",
       "<span style=\"color: #d78700; text-decoration-color: #d78700\">┃</span> <span style=\"color: #808000; text-decoration-color: #808000; font-weight: bold\">   </span>without overwhelming readers.                                                                                <span style=\"color: #d78700; text-decoration-color: #d78700\">┃</span>\n",
       "<span style=\"color: #d78700; text-decoration-color: #d78700\">┃</span>                                                                                                                 <span style=\"color: #d78700; text-decoration-color: #d78700\">┃</span>\n",
       "<span style=\"color: #d78700; text-decoration-color: #d78700\">┃</span> <span style=\"color: #808000; text-decoration-color: #808000; font-weight: bold\"> 3 </span>What level of detail for each story?                                                                         <span style=\"color: #d78700; text-decoration-color: #d78700\">┃</span>\n",
       "<span style=\"color: #d78700; text-decoration-color: #d78700\">┃</span>                                                                                                                 <span style=\"color: #d78700; text-decoration-color: #d78700\">┃</span>\n",
       "<span style=\"color: #d78700; text-decoration-color: #d78700\">┃</span> <span style=\"color: #808000; text-decoration-color: #808000; font-weight: bold\"> • </span>Short summary + 1–2 key comment highlights (concise) — good for scanning.                                    <span style=\"color: #d78700; text-decoration-color: #d78700\">┃</span>\n",
       "<span style=\"color: #d78700; text-decoration-color: #d78700\">┃</span> <span style=\"color: #808000; text-decoration-color: #808000; font-weight: bold\"> • </span>Deeper analysis and takeaways per story — if you want more substance and original commentary.                <span style=\"color: #d78700; text-decoration-color: #d78700\">┃</span>\n",
       "<span style=\"color: #d78700; text-decoration-color: #d78700\">┃</span>                                                                                                                 <span style=\"color: #d78700; text-decoration-color: #d78700\">┃</span>\n",
       "<span style=\"color: #d78700; text-decoration-color: #d78700\">┃</span> <span style=\"color: #808000; text-decoration-color: #808000; font-weight: bold\"> 4 </span>Other preferences that will shape the post                                                                   <span style=\"color: #d78700; text-decoration-color: #d78700\">┃</span>\n",
       "<span style=\"color: #d78700; text-decoration-color: #d78700\">┃</span>                                                                                                                 <span style=\"color: #d78700; text-decoration-color: #d78700\">┃</span>\n",
       "<span style=\"color: #d78700; text-decoration-color: #d78700\">┃</span> <span style=\"color: #808000; text-decoration-color: #808000; font-weight: bold\"> • </span>Target audience (technical, business, general readers)?                                                      <span style=\"color: #d78700; text-decoration-color: #d78700\">┃</span>\n",
       "<span style=\"color: #d78700; text-decoration-color: #d78700\">┃</span> <span style=\"color: #808000; text-decoration-color: #808000; font-weight: bold\"> • </span>Tone (informal, authoritative, neutral)?                                                                     <span style=\"color: #d78700; text-decoration-color: #d78700\">┃</span>\n",
       "<span style=\"color: #d78700; text-decoration-color: #d78700\">┃</span> <span style=\"color: #808000; text-decoration-color: #808000; font-weight: bold\"> • </span>Desired length (800–1,200 words, 1,500–2,500 words, or longer)?                                              <span style=\"color: #d78700; text-decoration-color: #d78700\">┃</span>\n",
       "<span style=\"color: #d78700; text-decoration-color: #d78700\">┃</span> <span style=\"color: #808000; text-decoration-color: #808000; font-weight: bold\"> • </span>Do you want SEO keywords or a suggested headline and meta description?                                       <span style=\"color: #d78700; text-decoration-color: #d78700\">┃</span>\n",
       "<span style=\"color: #d78700; text-decoration-color: #d78700\">┃</span>                                                                                                                 <span style=\"color: #d78700; text-decoration-color: #d78700\">┃</span>\n",
       "<span style=\"color: #d78700; text-decoration-color: #d78700\">┃</span> If you don’t specify, I’ll: gather the top 10 Hacker News threads from 2024 about AI trends, provide a short    <span style=\"color: #d78700; text-decoration-color: #d78700\">┃</span>\n",
       "<span style=\"color: #d78700; text-decoration-color: #d78700\">┃</span> summary and 2–3 takeaways per story, and draft a ~1,200–1,500 word blog post aimed at a general                 <span style=\"color: #d78700; text-decoration-color: #d78700\">┃</span>\n",
       "<span style=\"color: #d78700; text-decoration-color: #d78700\">┃</span> technical/business audience with a suggested headline.                                                          <span style=\"color: #d78700; text-decoration-color: #d78700\">┃</span>\n",
       "<span style=\"color: #d78700; text-decoration-color: #d78700\">┃</span>                                                                                                                 <span style=\"color: #d78700; text-decoration-color: #d78700\">┃</span>\n",
       "<span style=\"color: #d78700; text-decoration-color: #d78700\">┃</span> Which options do you prefer?                                                                                    <span style=\"color: #d78700; text-decoration-color: #d78700\">┃</span>\n",
       "<span style=\"color: #d78700; text-decoration-color: #d78700\">┃</span>                                                                                                                 <span style=\"color: #d78700; text-decoration-color: #d78700\">┃</span>\n",
       "<span style=\"color: #d78700; text-decoration-color: #d78700\">┗━━━━━━━━━━━━━━━━━━━━━━━━━━━━━━━━━━━━━━━━━━━━━━━━━━━━━━━━━━━━━━━━━━━━━━━━━━━━━━━━━━━━━━━━━━━━━━━━━━━━━━━━━━━━━━━━━┛</span>\n",
       "</pre>\n"
      ],
      "text/plain": [
       "\u001b[38;5;172m┏━\u001b[0m\u001b[38;5;172m Step 4: Writer Agent (Completed) \u001b[0m\u001b[38;5;172m━━━━━━━━━━━━━━━━━━━━━━━━━━━━━━━━━━━━━━━━━━━━━━━━━━━━━━━━━━━━━━━━━━━━━━━━━━━━━\u001b[0m\u001b[38;5;172m━┓\u001b[0m\n",
       "\u001b[38;5;172m┃\u001b[0m                                                                                                                 \u001b[38;5;172m┃\u001b[0m\n",
       "\u001b[38;5;172m┃\u001b[0m Thanks — a quick clarification will help me fetch the right Hacker News material and shape the post.            \u001b[38;5;172m┃\u001b[0m\n",
       "\u001b[38;5;172m┃\u001b[0m                                                                                                                 \u001b[38;5;172m┃\u001b[0m\n",
       "\u001b[38;5;172m┃\u001b[0m A few questions / options:                                                                                      \u001b[38;5;172m┃\u001b[0m\n",
       "\u001b[38;5;172m┃\u001b[0m                                                                                                                 \u001b[38;5;172m┃\u001b[0m\n",
       "\u001b[38;5;172m┃\u001b[0m \u001b[1;33m 1 \u001b[0mHacker News timeframe                                                                                        \u001b[38;5;172m┃\u001b[0m\n",
       "\u001b[38;5;172m┃\u001b[0m                                                                                                                 \u001b[38;5;172m┃\u001b[0m\n",
       "\u001b[38;5;172m┃\u001b[0m \u001b[1;33m • \u001b[0mDo you want “top HN stories from 2024 that are about AI trends” (recommended if you want a time‑bounded,     \u001b[38;5;172m┃\u001b[0m\n",
       "\u001b[38;5;172m┃\u001b[0m \u001b[1;33m   \u001b[0myear‑focused post), or                                                                                       \u001b[38;5;172m┃\u001b[0m\n",
       "\u001b[38;5;172m┃\u001b[0m \u001b[1;33m • \u001b[0m“current top HN stories that discuss AI trends, regardless of their publication date” (recommended if you    \u001b[38;5;172m┃\u001b[0m\n",
       "\u001b[38;5;172m┃\u001b[0m \u001b[1;33m   \u001b[0mwant the freshest ongoing discussion)?                                                                       \u001b[38;5;172m┃\u001b[0m\n",
       "\u001b[38;5;172m┃\u001b[0m                                                                                                                 \u001b[38;5;172m┃\u001b[0m\n",
       "\u001b[38;5;172m┃\u001b[0m \u001b[1;33m 2 \u001b[0mHow many HN stories should I include?                                                                        \u001b[38;5;172m┃\u001b[0m\n",
       "\u001b[38;5;172m┃\u001b[0m                                                                                                                 \u001b[38;5;172m┃\u001b[0m\n",
       "\u001b[38;5;172m┃\u001b[0m \u001b[1;33m • \u001b[0mCommon choices: top 5, top 10 (recommended), or top 20. I suggest top 10 for a blog post — enough breadth    \u001b[38;5;172m┃\u001b[0m\n",
       "\u001b[38;5;172m┃\u001b[0m \u001b[1;33m   \u001b[0mwithout overwhelming readers.                                                                                \u001b[38;5;172m┃\u001b[0m\n",
       "\u001b[38;5;172m┃\u001b[0m                                                                                                                 \u001b[38;5;172m┃\u001b[0m\n",
       "\u001b[38;5;172m┃\u001b[0m \u001b[1;33m 3 \u001b[0mWhat level of detail for each story?                                                                         \u001b[38;5;172m┃\u001b[0m\n",
       "\u001b[38;5;172m┃\u001b[0m                                                                                                                 \u001b[38;5;172m┃\u001b[0m\n",
       "\u001b[38;5;172m┃\u001b[0m \u001b[1;33m • \u001b[0mShort summary + 1–2 key comment highlights (concise) — good for scanning.                                    \u001b[38;5;172m┃\u001b[0m\n",
       "\u001b[38;5;172m┃\u001b[0m \u001b[1;33m • \u001b[0mDeeper analysis and takeaways per story — if you want more substance and original commentary.                \u001b[38;5;172m┃\u001b[0m\n",
       "\u001b[38;5;172m┃\u001b[0m                                                                                                                 \u001b[38;5;172m┃\u001b[0m\n",
       "\u001b[38;5;172m┃\u001b[0m \u001b[1;33m 4 \u001b[0mOther preferences that will shape the post                                                                   \u001b[38;5;172m┃\u001b[0m\n",
       "\u001b[38;5;172m┃\u001b[0m                                                                                                                 \u001b[38;5;172m┃\u001b[0m\n",
       "\u001b[38;5;172m┃\u001b[0m \u001b[1;33m • \u001b[0mTarget audience (technical, business, general readers)?                                                      \u001b[38;5;172m┃\u001b[0m\n",
       "\u001b[38;5;172m┃\u001b[0m \u001b[1;33m • \u001b[0mTone (informal, authoritative, neutral)?                                                                     \u001b[38;5;172m┃\u001b[0m\n",
       "\u001b[38;5;172m┃\u001b[0m \u001b[1;33m • \u001b[0mDesired length (800–1,200 words, 1,500–2,500 words, or longer)?                                              \u001b[38;5;172m┃\u001b[0m\n",
       "\u001b[38;5;172m┃\u001b[0m \u001b[1;33m • \u001b[0mDo you want SEO keywords or a suggested headline and meta description?                                       \u001b[38;5;172m┃\u001b[0m\n",
       "\u001b[38;5;172m┃\u001b[0m                                                                                                                 \u001b[38;5;172m┃\u001b[0m\n",
       "\u001b[38;5;172m┃\u001b[0m If you don’t specify, I’ll: gather the top 10 Hacker News threads from 2024 about AI trends, provide a short    \u001b[38;5;172m┃\u001b[0m\n",
       "\u001b[38;5;172m┃\u001b[0m summary and 2–3 takeaways per story, and draft a ~1,200–1,500 word blog post aimed at a general                 \u001b[38;5;172m┃\u001b[0m\n",
       "\u001b[38;5;172m┃\u001b[0m technical/business audience with a suggested headline.                                                          \u001b[38;5;172m┃\u001b[0m\n",
       "\u001b[38;5;172m┃\u001b[0m                                                                                                                 \u001b[38;5;172m┃\u001b[0m\n",
       "\u001b[38;5;172m┃\u001b[0m Which options do you prefer?                                                                                    \u001b[38;5;172m┃\u001b[0m\n",
       "\u001b[38;5;172m┃\u001b[0m                                                                                                                 \u001b[38;5;172m┃\u001b[0m\n",
       "\u001b[38;5;172m┗━━━━━━━━━━━━━━━━━━━━━━━━━━━━━━━━━━━━━━━━━━━━━━━━━━━━━━━━━━━━━━━━━━━━━━━━━━━━━━━━━━━━━━━━━━━━━━━━━━━━━━━━━━━━━━━━━┛\u001b[0m\n"
      ]
     },
     "metadata": {},
     "output_type": "display_data"
    },
    {
     "data": {
      "text/html": [
       "<pre style=\"white-space:pre;overflow-x:auto;line-height:normal;font-family:Menlo,'DejaVu Sans Mono',consolas,'Courier New',monospace\"><span style=\"color: #008000; text-decoration-color: #008000; font-weight: bold\">Completed in 108.5s</span>\n",
       "</pre>\n"
      ],
      "text/plain": [
       "\u001b[1;32mCompleted in 108.5s\u001b[0m\n"
      ]
     },
     "metadata": {},
     "output_type": "display_data"
    },
    {
     "data": {
      "text/html": [
       "<pre style=\"white-space:pre;overflow-x:auto;line-height:normal;font-family:Menlo,'DejaVu Sans Mono',consolas,'Courier New',monospace\"></pre>\n"
      ],
      "text/plain": []
     },
     "metadata": {},
     "output_type": "display_data"
    }
   ],
   "source": [
    "from agno.workflow.workflow import Workflow\n",
    "\n",
    "content_creation_workflow = Workflow(\n",
    "    name=\"Blog Post Workflow\",\n",
    "    description=\"Automated blog post creation from Hackernews and the web\",\n",
    "    db=SqliteDb(\n",
    "        session_table=\"workflow_session\",\n",
    "        db_file=\"tmp/workflow.db\",\n",
    "    ),\n",
    "    steps=[\n",
    "        prepare_input_for_web_search,\n",
    "        research_team,\n",
    "        prepare_input_for_writer,\n",
    "        writer_agent,\n",
    "    ],\n",
    ")\n",
    "content_creation_workflow.print_response(\n",
    "    input=\"AI trends in 2024\",\n",
    "    markdown=True,\n",
    ")"
   ]
  }
 ],
 "metadata": {
  "kernelspec": {
   "display_name": "agents",
   "language": "python",
   "name": "python3"
  },
  "language_info": {
   "codemirror_mode": {
    "name": "ipython",
    "version": 3
   },
   "file_extension": ".py",
   "mimetype": "text/x-python",
   "name": "python",
   "nbconvert_exporter": "python",
   "pygments_lexer": "ipython3",
   "version": "3.13.7+"
  }
 },
 "nbformat": 4,
 "nbformat_minor": 5
}
