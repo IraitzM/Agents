{
 "cells": [
  {
   "cell_type": "markdown",
   "id": "233ce306",
   "metadata": {},
   "source": [
    "We may want to check with the user if the iteration loop should continue, it will not always be up to the agent."
   ]
  },
  {
   "cell_type": "code",
   "execution_count": 1,
   "id": "8fe58184",
   "metadata": {},
   "outputs": [
    {
     "data": {
      "text/plain": [
       "True"
      ]
     },
     "execution_count": 1,
     "metadata": {},
     "output_type": "execute_result"
    }
   ],
   "source": [
    "from dotenv import load_dotenv\n",
    "\n",
    "load_dotenv(override=True)"
   ]
  },
  {
   "cell_type": "code",
   "execution_count": null,
   "id": "77abc52d",
   "metadata": {},
   "outputs": [],
   "source": [
    "import json\n",
    "from typing import Any, Callable, Dict, Iterator\n",
    "\n",
    "import httpx\n",
    "from agno.exceptions import StopAgentRun\n",
    "from agno.tools import tool\n",
    "from rich.console import Console\n",
    "from rich.prompt import Prompt\n",
    "\n",
    "# This is the console instance used by the print_response method\n",
    "# We can use this to stop and restart the live display and ask for user confirmation\n",
    "console = Console()\n",
    "\n",
    "def confirmation_hook(\n",
    "    function_name: str, function_call: Callable, arguments: Dict[str, Any]\n",
    "):\n",
    "    # Get the live display instance from the console\n",
    "    live = console._live\n",
    "\n",
    "    # Stop the live display temporarily so we can ask for user confirmation\n",
    "    live.stop()  # type: ignore\n",
    "\n",
    "    # Ask for confirmation\n",
    "    console.print(f\"\\nAbout to run [bold blue]{function_name}[/]\")\n",
    "    message = (\n",
    "        Prompt.ask(\"Do you want to continue?\", choices=[\"y\", \"n\"], default=\"y\")\n",
    "        .strip()\n",
    "        .lower()\n",
    "    )\n",
    "\n",
    "    # Restart the live display\n",
    "    live.start()  # type: ignore\n",
    "\n",
    "    # If the user does not want to continue, raise a StopExecution exception\n",
    "    if message != \"y\":\n",
    "        raise StopAgentRun(\n",
    "            \"Tool call cancelled by user\",\n",
    "            agent_message=\"Stopping execution as permission was not granted.\",\n",
    "        )\n",
    "    \n",
    "    # Call the function\n",
    "    result = function_call(**arguments)\n",
    "\n",
    "    # Optionally transform the result\n",
    "\n",
    "    return result\n",
    "\n",
    "\n",
    "@tool(tool_hooks=[confirmation_hook])\n",
    "def get_top_hackernews_stories(num_stories: int) -> Iterator[str]:\n",
    "    \"\"\"Fetch top stories from Hacker News.\n",
    "\n",
    "    Args:\n",
    "        num_stories (int): Number of stories to retrieve\n",
    "\n",
    "    Returns:\n",
    "        str: JSON string containing story details\n",
    "    \"\"\"\n",
    "    # Fetch top story IDs\n",
    "    response = httpx.get(\"https://hacker-news.firebaseio.com/v0/topstories.json\")\n",
    "    story_ids = response.json()\n",
    "\n",
    "    # Yield story details\n",
    "    final_stories = []\n",
    "    for story_id in story_ids[:num_stories]:\n",
    "        story_response = httpx.get(\n",
    "            f\"https://hacker-news.firebaseio.com/v0/item/{story_id}.json\"\n",
    "        )\n",
    "        story = story_response.json()\n",
    "        if \"text\" in story:\n",
    "            story.pop(\"text\", None)\n",
    "        final_stories.append(story)\n",
    "\n",
    "    return json.dumps(final_stories)"
   ]
  },
  {
   "cell_type": "code",
   "execution_count": 3,
   "id": "9fb9063f",
   "metadata": {},
   "outputs": [
    {
     "data": {
      "application/vnd.jupyter.widget-view+json": {
       "model_id": "0f96be3cc88349dc9f162c05a135c9fa",
       "version_major": 2,
       "version_minor": 0
      },
      "text/plain": [
       "Output()"
      ]
     },
     "metadata": {},
     "output_type": "display_data"
    },
    {
     "data": {
      "text/html": [
       "<pre style=\"white-space:pre;overflow-x:auto;line-height:normal;font-family:Menlo,'DejaVu Sans Mono',consolas,'Courier New',monospace\"></pre>\n"
      ],
      "text/plain": []
     },
     "metadata": {},
     "output_type": "display_data"
    },
    {
     "data": {
      "text/html": [
       "<pre style=\"white-space:pre;overflow-x:auto;line-height:normal;font-family:Menlo,'DejaVu Sans Mono',consolas,'Courier New',monospace\">\n",
       "About to run <span style=\"color: #000080; text-decoration-color: #000080; font-weight: bold\">get_top_hackernews_stories</span>\n",
       "</pre>\n"
      ],
      "text/plain": [
       "\n",
       "About to run \u001b[1;34mget_top_hackernews_stories\u001b[0m\n"
      ]
     },
     "metadata": {},
     "output_type": "display_data"
    },
    {
     "data": {
      "text/html": [
       "<pre style=\"white-space:pre;overflow-x:auto;line-height:normal;font-family:Menlo,'DejaVu Sans Mono',consolas,'Courier New',monospace\">Do you want to continue? <span style=\"color: #800080; text-decoration-color: #800080; font-weight: bold\">[y/n]</span> <span style=\"color: #008080; text-decoration-color: #008080; font-weight: bold\">(y)</span>: </pre>\n"
      ],
      "text/plain": [
       "Do you want to continue? \u001b[1;35m[y/n]\u001b[0m \u001b[1;36m(y)\u001b[0m: "
      ]
     },
     "metadata": {},
     "output_type": "display_data"
    },
    {
     "data": {
      "text/html": [
       "<pre style=\"white-space:pre;overflow-x:auto;line-height:normal;font-family:Menlo,'DejaVu Sans Mono',consolas,'Courier New',monospace\"></pre>\n"
      ],
      "text/plain": []
     },
     "metadata": {},
     "output_type": "display_data"
    }
   ],
   "source": [
    "from agno.agent import Agent\n",
    "from agno.models.google import Gemini\n",
    "\n",
    "# Create an Agent\n",
    "agent = Agent(\n",
    "    model=Gemini(id=\"gemini-2.5-flash\", temperature=0),\n",
    "    instructions=\"You have tech-savvy personality\",\n",
    "    tools=[get_top_hackernews_stories],\n",
    "    show_tool_calls=True,\n",
    "    markdown=True,\n",
    ")\n",
    "\n",
    "agent.print_response(\n",
    "    \"Fetch the top 2 hackernews stories?\", stream=True, console=console\n",
    ")"
   ]
  }
 ],
 "metadata": {
  "kernelspec": {
   "display_name": "agents",
   "language": "python",
   "name": "python3"
  },
  "language_info": {
   "codemirror_mode": {
    "name": "ipython",
    "version": 3
   },
   "file_extension": ".py",
   "mimetype": "text/x-python",
   "name": "python",
   "nbconvert_exporter": "python",
   "pygments_lexer": "ipython3",
   "version": "3.12.7"
  }
 },
 "nbformat": 4,
 "nbformat_minor": 5
}
