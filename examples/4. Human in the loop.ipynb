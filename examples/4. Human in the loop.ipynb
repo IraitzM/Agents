{
 "cells": [
  {
   "cell_type": "markdown",
   "id": "233ce306",
   "metadata": {},
   "source": [
    "We may want to check with the user if the iteration loop should continue, it will not always be up to the agent."
   ]
  },
  {
   "cell_type": "code",
   "execution_count": 5,
   "id": "8fe58184",
   "metadata": {},
   "outputs": [
    {
     "data": {
      "text/plain": [
       "True"
      ]
     },
     "execution_count": 5,
     "metadata": {},
     "output_type": "execute_result"
    }
   ],
   "source": [
    "from dotenv import load_dotenv\n",
    "\n",
    "load_dotenv(override=True)"
   ]
  },
  {
   "cell_type": "code",
   "execution_count": null,
   "id": "c35ddf7c",
   "metadata": {},
   "outputs": [],
   "source": [
    "import json\n",
    "\n",
    "import httpx\n",
    "from agno.db.sqlite import SqliteDb\n",
    "from agno.tools import tool\n",
    "from agno.utils import pprint\n",
    "from rich.console import Console\n",
    "from rich.prompt import Prompt\n",
    "\n",
    "console = Console()\n",
    "\n",
    "\n",
    "@tool(requires_confirmation=True)\n",
    "def get_top_hackernews_stories(num_stories: int) -> str:\n",
    "    \"\"\"Fetch top stories from Hacker News.\n",
    "\n",
    "    Args:\n",
    "        num_stories (int): Number of stories to retrieve\n",
    "\n",
    "    Returns:\n",
    "        str: JSON string containing story details\n",
    "    \"\"\"\n",
    "    # Fetch top story IDs\n",
    "    response = httpx.get(\"https://hacker-news.firebaseio.com/v0/topstories.json\")\n",
    "    story_ids = response.json()\n",
    "\n",
    "    # Yield story details\n",
    "    all_stories = []\n",
    "    for story_id in story_ids[:num_stories]:\n",
    "        story_response = httpx.get(\n",
    "            f\"https://hacker-news.firebaseio.com/v0/item/{story_id}.json\"\n",
    "        )\n",
    "        story = story_response.json()\n",
    "        if \"text\" in story:\n",
    "            story.pop(\"text\", None)\n",
    "        all_stories.append(story)\n",
    "    return json.dumps(all_stories)"
   ]
  },
  {
   "cell_type": "code",
   "execution_count": null,
   "id": "9fb9063f",
   "metadata": {},
   "outputs": [],
   "source": [
    "from agno.agent import Agent\n",
    "from agno.models.google import Gemini\n",
    "\n",
    "# Create an Agent\n",
    "agent = Agent(\n",
    "    model=Gemini(id=\"gemini-2.5-flash\", temperature=0),\n",
    "    instructions=\"You have tech-savvy personality\",\n",
    "    tools=[get_top_hackernews_stories],\n",
    "    markdown=True,\n",
    "    db=SqliteDb(session_table=\"test_session\", db_file=\"tmp/example.db\"),\n",
    ")"
   ]
  },
  {
   "cell_type": "code",
   "execution_count": 12,
   "id": "3759d9bf",
   "metadata": {},
   "outputs": [
    {
     "data": {
      "text/html": [
       "<pre style=\"white-space:pre;overflow-x:auto;line-height:normal;font-family:Menlo,'DejaVu Sans Mono',consolas,'Courier New',monospace\"><span style=\"color: #000080; text-decoration-color: #000080\">INFO</span> Successfully created table <span style=\"color: #008000; text-decoration-color: #008000\">'test_session'</span>                                                                     \n",
       "</pre>\n"
      ],
      "text/plain": [
       "\u001b[34mINFO\u001b[0m Successfully created table \u001b[32m'test_session'\u001b[0m                                                                     \n"
      ]
     },
     "metadata": {},
     "output_type": "display_data"
    },
    {
     "data": {
      "text/html": [
       "<pre style=\"white-space:pre;overflow-x:auto;line-height:normal;font-family:Menlo,'DejaVu Sans Mono',consolas,'Courier New',monospace\">Tool name <span style=\"color: #000080; text-decoration-color: #000080; font-weight: bold\">get_top_hackernews_stories({</span><span style=\"color: #000080; text-decoration-color: #000080; font-weight: bold\">'num_stories'</span><span style=\"color: #000080; text-decoration-color: #000080; font-weight: bold\">: </span><span style=\"color: #000080; text-decoration-color: #000080; font-weight: bold\">2</span><span style=\"color: #000080; text-decoration-color: #000080; font-weight: bold\">})</span> requires confirmation.\n",
       "</pre>\n"
      ],
      "text/plain": [
       "Tool name \u001b[1;34mget_top_hackernews_stories\u001b[0m\u001b[1;34m(\u001b[0m\u001b[1;34m{\u001b[0m\u001b[1;34m'num_stories'\u001b[0m\u001b[1;34m: \u001b[0m\u001b[1;34m2\u001b[0m\u001b[1;34m}\u001b[0m\u001b[1;34m)\u001b[0m requires confirmation.\n"
      ]
     },
     "metadata": {},
     "output_type": "display_data"
    },
    {
     "data": {
      "text/html": [
       "<pre style=\"white-space:pre;overflow-x:auto;line-height:normal;font-family:Menlo,'DejaVu Sans Mono',consolas,'Courier New',monospace\">Do you want to continue? <span style=\"color: #800080; text-decoration-color: #800080; font-weight: bold\">[y/n]</span> <span style=\"color: #008080; text-decoration-color: #008080; font-weight: bold\">(y)</span>: </pre>\n"
      ],
      "text/plain": [
       "Do you want to continue? \u001b[1;35m[y/n]\u001b[0m \u001b[1;36m(y)\u001b[0m: "
      ]
     },
     "metadata": {},
     "output_type": "display_data"
    },
    {
     "data": {
      "text/html": [
       "<pre style=\"white-space:pre;overflow-x:auto;line-height:normal;font-family:Menlo,'DejaVu Sans Mono',consolas,'Courier New',monospace\"><span style=\"color: #000080; text-decoration-color: #000080\">╭──────────────────────────────────────────────────────────────────╮</span>\n",
       "<span style=\"color: #000080; text-decoration-color: #000080\">│</span> Here are the top 2 Hacker News stories:                          <span style=\"color: #000080; text-decoration-color: #000080\">│</span>\n",
       "<span style=\"color: #000080; text-decoration-color: #000080\">│</span>                                                                  <span style=\"color: #000080; text-decoration-color: #000080\">│</span>\n",
       "<span style=\"color: #000080; text-decoration-color: #000080\">│</span> 1.  **Kagi News**                                                <span style=\"color: #000080; text-decoration-color: #000080\">│</span>\n",
       "<span style=\"color: #000080; text-decoration-color: #000080\">│</span>     *   URL: https://blog.kagi.com/kagi-news                     <span style=\"color: #000080; text-decoration-color: #000080\">│</span>\n",
       "<span style=\"color: #000080; text-decoration-color: #000080\">│</span>     *   Score: 396                                               <span style=\"color: #000080; text-decoration-color: #000080\">│</span>\n",
       "<span style=\"color: #000080; text-decoration-color: #000080\">│</span>     *   By: grappler                                             <span style=\"color: #000080; text-decoration-color: #000080\">│</span>\n",
       "<span style=\"color: #000080; text-decoration-color: #000080\">│</span>                                                                  <span style=\"color: #000080; text-decoration-color: #000080\">│</span>\n",
       "<span style=\"color: #000080; text-decoration-color: #000080\">│</span> 2.  **Launch HN: Airweave (YC X25) – Let agents search any app** <span style=\"color: #000080; text-decoration-color: #000080\">│</span>\n",
       "<span style=\"color: #000080; text-decoration-color: #000080\">│</span>     *   URL: https://github.com/airweave-ai/airweave             <span style=\"color: #000080; text-decoration-color: #000080\">│</span>\n",
       "<span style=\"color: #000080; text-decoration-color: #000080\">│</span>     *   Score: 61                                                <span style=\"color: #000080; text-decoration-color: #000080\">│</span>\n",
       "<span style=\"color: #000080; text-decoration-color: #000080\">│</span>     *   By: lennertjansen                                        <span style=\"color: #000080; text-decoration-color: #000080\">│</span>\n",
       "<span style=\"color: #000080; text-decoration-color: #000080\">╰──────────────────────────────────────────────────────────────────╯</span>\n",
       "</pre>\n"
      ],
      "text/plain": [
       "\u001b[34m╭──────────────────────────────────────────────────────────────────╮\u001b[0m\n",
       "\u001b[34m│\u001b[0m Here are the top 2 Hacker News stories:                          \u001b[34m│\u001b[0m\n",
       "\u001b[34m│\u001b[0m                                                                  \u001b[34m│\u001b[0m\n",
       "\u001b[34m│\u001b[0m 1.  **Kagi News**                                                \u001b[34m│\u001b[0m\n",
       "\u001b[34m│\u001b[0m     *   URL: https://blog.kagi.com/kagi-news                     \u001b[34m│\u001b[0m\n",
       "\u001b[34m│\u001b[0m     *   Score: 396                                               \u001b[34m│\u001b[0m\n",
       "\u001b[34m│\u001b[0m     *   By: grappler                                             \u001b[34m│\u001b[0m\n",
       "\u001b[34m│\u001b[0m                                                                  \u001b[34m│\u001b[0m\n",
       "\u001b[34m│\u001b[0m 2.  **Launch HN: Airweave (YC X25) – Let agents search any app** \u001b[34m│\u001b[0m\n",
       "\u001b[34m│\u001b[0m     *   URL: https://github.com/airweave-ai/airweave             \u001b[34m│\u001b[0m\n",
       "\u001b[34m│\u001b[0m     *   Score: 61                                                \u001b[34m│\u001b[0m\n",
       "\u001b[34m│\u001b[0m     *   By: lennertjansen                                        \u001b[34m│\u001b[0m\n",
       "\u001b[34m╰──────────────────────────────────────────────────────────────────╯\u001b[0m\n"
      ]
     },
     "metadata": {},
     "output_type": "display_data"
    }
   ],
   "source": [
    "run_response = agent.run(\"Fetch the top 2 hackernews stories.\")\n",
    "if run_response.is_paused:\n",
    "    for tool in run_response.tools_requiring_confirmation:\n",
    "        # Ask for confirmation\n",
    "        console.print(\n",
    "            f\"Tool name [bold blue]{tool.tool_name}({tool.tool_args})[/] requires confirmation.\"\n",
    "        )\n",
    "        message = (\n",
    "            Prompt.ask(\"Do you want to continue?\", choices=[\"y\", \"n\"], default=\"y\")\n",
    "            .strip()\n",
    "            .lower()\n",
    "        )\n",
    "\n",
    "        if message == \"n\":\n",
    "            tool.confirmed = False\n",
    "        else:\n",
    "            # We update the tools in place\n",
    "            tool.confirmed = True\n",
    "\n",
    "run_response = agent.continue_run(run_response=run_response)\n",
    "# Or\n",
    "# run_response = agent.continue_run(run_id=run_response.run_id, updated_tools=run_response.tools)\n",
    "\n",
    "pprint.pprint_run_response(run_response)"
   ]
  }
 ],
 "metadata": {
  "kernelspec": {
   "display_name": "agents",
   "language": "python",
   "name": "python3"
  },
  "language_info": {
   "codemirror_mode": {
    "name": "ipython",
    "version": 3
   },
   "file_extension": ".py",
   "mimetype": "text/x-python",
   "name": "python",
   "nbconvert_exporter": "python",
   "pygments_lexer": "ipython3",
   "version": "3.12.7"
  }
 },
 "nbformat": 4,
 "nbformat_minor": 5
}
